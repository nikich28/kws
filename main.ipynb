{
  "nbformat": 4,
  "nbformat_minor": 0,
  "metadata": {
    "accelerator": "GPU",
    "colab": {
      "name": "seminar.ipynb",
      "provenance": [],
      "collapsed_sections": [
        "QRZB9KXyVvfa"
      ]
    },
    "kernelspec": {
      "display_name": "Python 3 (ipykernel)",
      "language": "python",
      "name": "python3"
    },
    "language_info": {
      "codemirror_mode": {
        "name": "ipython",
        "version": 3
      },
      "file_extension": ".py",
      "mimetype": "text/x-python",
      "name": "python",
      "nbconvert_exporter": "python",
      "pygments_lexer": "ipython3",
      "version": "3.8.12"
    }
  },
  "cells": [
    {
      "cell_type": "markdown",
      "metadata": {
        "id": "_lhrn5O-qUYZ"
      },
      "source": [
        "# Import and misc"
      ]
    },
    {
      "cell_type": "code",
      "metadata": {
        "colab": {
          "base_uri": "https://localhost:8080/"
        },
        "id": "meO-Mp9jiAFC",
        "outputId": "1ac66564-18cf-4b77-9829-fd699ea41975"
      },
      "source": [
        "!pip install torchaudio==0.9.1"
      ],
      "execution_count": 1,
      "outputs": [
        {
          "output_type": "stream",
          "name": "stdout",
          "text": [
            "Collecting torchaudio==0.9.1\n",
            "  Downloading torchaudio-0.9.1-cp37-cp37m-manylinux1_x86_64.whl (1.9 MB)\n",
            "\u001b[K     |████████████████████████████████| 1.9 MB 5.3 MB/s \n",
            "\u001b[?25hCollecting torch==1.9.1\n",
            "  Downloading torch-1.9.1-cp37-cp37m-manylinux1_x86_64.whl (831.4 MB)\n",
            "\u001b[K     |████████████████████████████████| 831.4 MB 7.1 kB/s \n",
            "\u001b[?25hRequirement already satisfied: typing-extensions in /usr/local/lib/python3.7/dist-packages (from torch==1.9.1->torchaudio==0.9.1) (3.10.0.2)\n",
            "Installing collected packages: torch, torchaudio\n",
            "  Attempting uninstall: torch\n",
            "    Found existing installation: torch 1.10.0+cu111\n",
            "    Uninstalling torch-1.10.0+cu111:\n",
            "      Successfully uninstalled torch-1.10.0+cu111\n",
            "  Attempting uninstall: torchaudio\n",
            "    Found existing installation: torchaudio 0.10.0+cu111\n",
            "    Uninstalling torchaudio-0.10.0+cu111:\n",
            "      Successfully uninstalled torchaudio-0.10.0+cu111\n",
            "\u001b[31mERROR: pip's dependency resolver does not currently take into account all the packages that are installed. This behaviour is the source of the following dependency conflicts.\n",
            "torchvision 0.11.1+cu111 requires torch==1.10.0, but you have torch 1.9.1 which is incompatible.\n",
            "torchtext 0.11.0 requires torch==1.10.0, but you have torch 1.9.1 which is incompatible.\u001b[0m\n",
            "Successfully installed torch-1.9.1 torchaudio-0.9.1\n"
          ]
        }
      ]
    },
    {
      "cell_type": "code",
      "metadata": {
        "id": "bbUpoArCqUYa"
      },
      "source": [
        "from typing import Tuple, Union, List, Callable, Optional\n",
        "from tqdm import tqdm\n",
        "from itertools import islice\n",
        "import pathlib\n",
        "import dataclasses\n",
        "\n",
        "import numpy as np\n",
        "import pandas as pd\n",
        "\n",
        "import torch\n",
        "import torch.nn.functional as F\n",
        "from torch import nn\n",
        "from torch import distributions\n",
        "from torch.utils.data import DataLoader, Dataset, WeightedRandomSampler\n",
        "from torch.nn.utils.rnn import pad_sequence\n",
        "\n",
        "import torchaudio\n",
        "from IPython import display as display_"
      ],
      "execution_count": 1,
      "outputs": []
    },
    {
      "cell_type": "code",
      "metadata": {
        "id": "-tjsNnN_VxC9"
      },
      "source": [
        "seed_ = 808\n",
        "torch.manual_seed(seed_)\n",
        "torch.cuda.manual_seed(seed_)\n",
        "np.random.seed(seed_)\n",
        "torch.backends.cudnn.deterministic = True"
      ],
      "execution_count": 2,
      "outputs": []
    },
    {
      "cell_type": "markdown",
      "metadata": {
        "id": "812GwLfqqUYf"
      },
      "source": [
        "# Task"
      ]
    },
    {
      "cell_type": "markdown",
      "metadata": {
        "id": "i1DuQIyRqUYf"
      },
      "source": [
        "In this notebook we will implement a model for finding a keyword in a stream.\n",
        "\n",
        "We will implement the version with CRNN because it is easy and improves the model. \n",
        "(from https://www.dropbox.com/s/22ah2ba7dug6pzw/KWS_Attention.pdf)"
      ]
    },
    {
      "cell_type": "code",
      "metadata": {
        "id": "8PdhApeEh9pH"
      },
      "source": [
        "@dataclasses.dataclass\n",
        "class TaskConfig:\n",
        "    keyword: str = 'sheila'  # We will use 1 key word -- 'sheila'\n",
        "    batch_size: int = 128\n",
        "    learning_rate: float = 3e-4\n",
        "    weight_decay: float = 1e-5\n",
        "    num_epochs: int = 20\n",
        "    n_mels: int = 40\n",
        "    cnn_out_channels: int = 8\n",
        "    kernel_size: Tuple[int, int] = (5, 20)\n",
        "    stride: Tuple[int, int] = (2, 8)\n",
        "    hidden_size: int = 64\n",
        "    gru_num_layers: int = 2\n",
        "    bidirectional: bool = False\n",
        "    num_classes: int = 2\n",
        "    sample_rate: int = 16000\n",
        "    device: torch.device = torch.device(\n",
        "        'cuda:0' if torch.cuda.is_available() else 'cpu')"
      ],
      "execution_count": 3,
      "outputs": []
    },
    {
      "cell_type": "markdown",
      "metadata": {
        "id": "KA1gPmE1h9pI"
      },
      "source": [
        "# Data"
      ]
    },
    {
      "cell_type": "code",
      "metadata": {
        "id": "Y2N8zcx9MF1X",
        "colab": {
          "base_uri": "https://localhost:8080/"
        },
        "outputId": "05588233-ae08-484c-f3ae-e7730b4475f9"
      },
      "source": [
        "!wget http://download.tensorflow.org/data/speech_commands_v0.01.tar.gz -O speech_commands_v0.01.tar.gz\n",
        "!mkdir speech_commands && tar -C speech_commands -xvzf speech_commands_v0.01.tar.gz 1> log"
      ],
      "execution_count": 4,
      "outputs": [
        {
          "output_type": "stream",
          "name": "stdout",
          "text": [
            "--2021-11-22 18:11:27--  http://download.tensorflow.org/data/speech_commands_v0.01.tar.gz\n",
            "Resolving download.tensorflow.org (download.tensorflow.org)... 74.125.69.128, 2607:f8b0:4001:c08::80\n",
            "Connecting to download.tensorflow.org (download.tensorflow.org)|74.125.69.128|:80... connected.\n",
            "HTTP request sent, awaiting response... 200 OK\n",
            "Length: 1489096277 (1.4G) [application/gzip]\n",
            "Saving to: ‘speech_commands_v0.01.tar.gz’\n",
            "\n",
            "speech_commands_v0. 100%[===================>]   1.39G   225MB/s    in 6.1s    \n",
            "\n",
            "2021-11-22 18:11:33 (233 MB/s) - ‘speech_commands_v0.01.tar.gz’ saved [1489096277/1489096277]\n",
            "\n"
          ]
        }
      ]
    },
    {
      "cell_type": "code",
      "metadata": {
        "id": "12wBTK0mNUsG"
      },
      "source": [
        "class SpeechCommandDataset(Dataset):\n",
        "\n",
        "    def __init__(\n",
        "        self,\n",
        "        transform: Optional[Callable] = None,\n",
        "        path2dir: str = None,\n",
        "        keywords: Union[str, List[str]] = None,\n",
        "        csv: Optional[pd.DataFrame] = None\n",
        "    ):        \n",
        "        self.transform = transform\n",
        "\n",
        "        if csv is None:\n",
        "            path2dir = pathlib.Path(path2dir)\n",
        "            keywords = keywords if isinstance(keywords, list) else [keywords]\n",
        "            \n",
        "            all_keywords = [\n",
        "                p.stem for p in path2dir.glob('*')\n",
        "                if p.is_dir() and not p.stem.startswith('_')\n",
        "            ]\n",
        "\n",
        "            triplets = []\n",
        "            for keyword in all_keywords:\n",
        "                paths = (path2dir / keyword).rglob('*.wav')\n",
        "                if keyword in keywords:\n",
        "                    for path2wav in paths:\n",
        "                        triplets.append((path2wav.as_posix(), keyword, 1))\n",
        "                else:\n",
        "                    for path2wav in paths:\n",
        "                        triplets.append((path2wav.as_posix(), keyword, 0))\n",
        "            \n",
        "            self.csv = pd.DataFrame(\n",
        "                triplets,\n",
        "                columns=['path', 'keyword', 'label']\n",
        "            )\n",
        "\n",
        "        else:\n",
        "            self.csv = csv\n",
        "    \n",
        "    def __getitem__(self, index: int):\n",
        "        instance = self.csv.iloc[index]\n",
        "\n",
        "        path2wav = instance['path']\n",
        "        wav, sr = torchaudio.load(path2wav)\n",
        "        wav = wav.sum(dim=0)\n",
        "        \n",
        "        if self.transform:\n",
        "            wav = self.transform(wav)\n",
        "\n",
        "        return {\n",
        "            'wav': wav,\n",
        "            'keywors': instance['keyword'],\n",
        "            'label': instance['label']\n",
        "        }\n",
        "\n",
        "    def __len__(self):\n",
        "        return len(self.csv)"
      ],
      "execution_count": 5,
      "outputs": []
    },
    {
      "cell_type": "code",
      "metadata": {
        "id": "-1rVkT81Pk90"
      },
      "source": [
        "dataset = SpeechCommandDataset(\n",
        "    path2dir='speech_commands', keywords=TaskConfig.keyword\n",
        ")"
      ],
      "execution_count": 6,
      "outputs": []
    },
    {
      "cell_type": "code",
      "metadata": {
        "colab": {
          "base_uri": "https://localhost:8080/",
          "height": 206
        },
        "id": "DFwhAXdfQLIA",
        "outputId": "e3bc58a0-bce8-4acf-ac4d-d1a7806833a7"
      },
      "source": [
        "dataset.csv.sample(5)"
      ],
      "execution_count": 7,
      "outputs": [
        {
          "output_type": "execute_result",
          "data": {
            "text/html": [
              "<div>\n",
              "<style scoped>\n",
              "    .dataframe tbody tr th:only-of-type {\n",
              "        vertical-align: middle;\n",
              "    }\n",
              "\n",
              "    .dataframe tbody tr th {\n",
              "        vertical-align: top;\n",
              "    }\n",
              "\n",
              "    .dataframe thead th {\n",
              "        text-align: right;\n",
              "    }\n",
              "</style>\n",
              "<table border=\"1\" class=\"dataframe\">\n",
              "  <thead>\n",
              "    <tr style=\"text-align: right;\">\n",
              "      <th></th>\n",
              "      <th>path</th>\n",
              "      <th>keyword</th>\n",
              "      <th>label</th>\n",
              "    </tr>\n",
              "  </thead>\n",
              "  <tbody>\n",
              "    <tr>\n",
              "      <th>63903</th>\n",
              "      <td>speech_commands/marvin/876c84d6_nohash_0.wav</td>\n",
              "      <td>marvin</td>\n",
              "      <td>0</td>\n",
              "    </tr>\n",
              "    <tr>\n",
              "      <th>62346</th>\n",
              "      <td>speech_commands/sheila/30aabd44_nohash_0.wav</td>\n",
              "      <td>sheila</td>\n",
              "      <td>1</td>\n",
              "    </tr>\n",
              "    <tr>\n",
              "      <th>5203</th>\n",
              "      <td>speech_commands/happy/d91a159e_nohash_0.wav</td>\n",
              "      <td>happy</td>\n",
              "      <td>0</td>\n",
              "    </tr>\n",
              "    <tr>\n",
              "      <th>27299</th>\n",
              "      <td>speech_commands/five/363c6bad_nohash_0.wav</td>\n",
              "      <td>five</td>\n",
              "      <td>0</td>\n",
              "    </tr>\n",
              "    <tr>\n",
              "      <th>11231</th>\n",
              "      <td>speech_commands/stop/ad63d93c_nohash_0.wav</td>\n",
              "      <td>stop</td>\n",
              "      <td>0</td>\n",
              "    </tr>\n",
              "  </tbody>\n",
              "</table>\n",
              "</div>"
            ],
            "text/plain": [
              "                                               path keyword  label\n",
              "63903  speech_commands/marvin/876c84d6_nohash_0.wav  marvin      0\n",
              "62346  speech_commands/sheila/30aabd44_nohash_0.wav  sheila      1\n",
              "5203    speech_commands/happy/d91a159e_nohash_0.wav   happy      0\n",
              "27299    speech_commands/five/363c6bad_nohash_0.wav    five      0\n",
              "11231    speech_commands/stop/ad63d93c_nohash_0.wav    stop      0"
            ]
          },
          "metadata": {},
          "execution_count": 7
        }
      ]
    },
    {
      "cell_type": "markdown",
      "metadata": {
        "id": "LUxfDJw1qUYi"
      },
      "source": [
        "### Augmentations"
      ]
    },
    {
      "cell_type": "code",
      "metadata": {
        "id": "dkmkxPWQqUYe"
      },
      "source": [
        "class AugsCreation:\n",
        "\n",
        "    def __init__(self):\n",
        "        self.background_noises = [\n",
        "            'speech_commands/_background_noise_/white_noise.wav',\n",
        "            'speech_commands/_background_noise_/dude_miaowing.wav',\n",
        "            'speech_commands/_background_noise_/doing_the_dishes.wav',\n",
        "            'speech_commands/_background_noise_/exercise_bike.wav',\n",
        "            'speech_commands/_background_noise_/pink_noise.wav',\n",
        "            'speech_commands/_background_noise_/running_tap.wav'\n",
        "        ]\n",
        "\n",
        "        self.noises = [\n",
        "            torchaudio.load(p)[0].squeeze()\n",
        "            for p in self.background_noises\n",
        "        ]\n",
        "\n",
        "    def add_rand_noise(self, audio):\n",
        "\n",
        "        # randomly choose noise\n",
        "        noise_num = torch.randint(low=0, high=len(\n",
        "            self.background_noises), size=(1,)).item()\n",
        "        noise = self.noises[noise_num]\n",
        "\n",
        "        noise_level = torch.Tensor([1])  # [0, 40]\n",
        "\n",
        "        noise_energy = torch.norm(noise)\n",
        "        audio_energy = torch.norm(audio)\n",
        "        alpha = (audio_energy / noise_energy) * \\\n",
        "            torch.pow(10, -noise_level / 20)\n",
        "\n",
        "        start = torch.randint(\n",
        "            low=0,\n",
        "            high=max(int(noise.size(0) - audio.size(0) - 1), 1),\n",
        "            size=(1,)\n",
        "        ).item()\n",
        "        noise_sample = noise[start: start + audio.size(0)]\n",
        "\n",
        "        audio_new = audio + alpha * noise_sample\n",
        "        audio_new.clamp_(-1, 1)\n",
        "        return audio_new\n",
        "\n",
        "    def __call__(self, wav):\n",
        "        aug_num = torch.randint(low=0, high=4, size=(1,)).item()   # choose 1 random aug from augs\n",
        "        augs = [\n",
        "            lambda x: x,\n",
        "            lambda x: (x + distributions.Normal(0, 0.01).sample(x.size())).clamp_(-1, 1),\n",
        "            lambda x: torchaudio.transforms.Vol(.25)(x),\n",
        "            lambda x: self.add_rand_noise(x)\n",
        "        ]\n",
        "\n",
        "        return augs[aug_num](wav)"
      ],
      "execution_count": 8,
      "outputs": []
    },
    {
      "cell_type": "code",
      "metadata": {
        "id": "ClWThxyYh9pM"
      },
      "source": [
        "indexes = torch.randperm(len(dataset))\n",
        "train_indexes = indexes[:int(len(dataset) * 0.8)]\n",
        "val_indexes = indexes[int(len(dataset) * 0.8):]\n",
        "\n",
        "train_df = dataset.csv.iloc[train_indexes].reset_index(drop=True)\n",
        "val_df = dataset.csv.iloc[val_indexes].reset_index(drop=True)"
      ],
      "execution_count": 9,
      "outputs": []
    },
    {
      "cell_type": "code",
      "metadata": {
        "id": "PDPLht5fqUYe"
      },
      "source": [
        "# Sample is a dict of utt, word and label\n",
        "train_set = SpeechCommandDataset(csv=train_df, transform=AugsCreation())\n",
        "val_set = SpeechCommandDataset(csv=val_df)"
      ],
      "execution_count": 10,
      "outputs": []
    },
    {
      "cell_type": "code",
      "metadata": {
        "id": "t3zz_2LfrBb5"
      },
      "source": [
        "# train_df.to_csv('train', index=False)\n",
        "# val_df.to_csv('val', index=False)"
      ],
      "execution_count": null,
      "outputs": []
    },
    {
      "cell_type": "code",
      "metadata": {
        "id": "wtZNV8hrrWD0"
      },
      "source": [
        "#lets fix all data for our future work, so you should simply download the data(not to use different splits all the time)\n",
        "\n",
        "train_df = pd.read_csv('train')\n",
        "val_df = pd.read_csv('val')\n",
        "train_set = SpeechCommandDataset(csv=train_df, transform=AugsCreation())\n",
        "val_set = SpeechCommandDataset(csv=val_df)"
      ],
      "execution_count": 11,
      "outputs": []
    },
    {
      "cell_type": "markdown",
      "metadata": {
        "id": "2vbPDqd6qUYj"
      },
      "source": [
        "### Sampler for oversampling:"
      ]
    },
    {
      "cell_type": "code",
      "metadata": {
        "id": "rfnjRKo2qUYj"
      },
      "source": [
        "# We should provide to WeightedRandomSampler _weight for every sample_; by default it is 1/len(target)\n",
        "\n",
        "def get_sampler(target):\n",
        "    class_sample_count = np.array(\n",
        "        [len(np.where(target == t)[0]) for t in np.unique(target)])   # for every class count it's number of occ.\n",
        "    weight = 1. / class_sample_count\n",
        "    samples_weight = np.array([weight[t] for t in target])\n",
        "    samples_weight = torch.from_numpy(samples_weight)\n",
        "    samples_weigth = samples_weight.float()\n",
        "    sampler = WeightedRandomSampler(samples_weight, len(samples_weight))\n",
        "    return sampler"
      ],
      "execution_count": 12,
      "outputs": []
    },
    {
      "cell_type": "code",
      "metadata": {
        "id": "UM8gLmHeqUYj"
      },
      "source": [
        "train_sampler = get_sampler(train_set.csv['label'].values)"
      ],
      "execution_count": 13,
      "outputs": []
    },
    {
      "cell_type": "code",
      "metadata": {
        "id": "lyBqbxp0h9pO"
      },
      "source": [
        "class Collator:\n",
        "    \n",
        "    def __call__(self, data):\n",
        "        wavs = []\n",
        "        labels = []    \n",
        "\n",
        "        for el in data:\n",
        "            wavs.append(el['wav'])\n",
        "            labels.append(el['label'])\n",
        "\n",
        "        # torch.nn.utils.rnn.pad_sequence takes list(Tensors) and returns padded (with 0.0) Tensor\n",
        "        wavs = pad_sequence(wavs, batch_first=True)    \n",
        "        labels = torch.Tensor(labels).long()\n",
        "        return wavs, labels"
      ],
      "execution_count": 14,
      "outputs": []
    },
    {
      "cell_type": "markdown",
      "metadata": {
        "id": "e8G9xPRVqUYk"
      },
      "source": [
        "###  Dataloaders"
      ]
    },
    {
      "cell_type": "code",
      "metadata": {
        "id": "6wGBMcQiqUYk"
      },
      "source": [
        "# Here we are obliged to use shuffle=False because of our sampler with randomness inside.\n",
        "\n",
        "train_loader = DataLoader(train_set, batch_size=TaskConfig.batch_size,\n",
        "                          shuffle=False, collate_fn=Collator(),\n",
        "                          sampler=train_sampler,\n",
        "                          num_workers=2, pin_memory=True)\n",
        "\n",
        "val_loader = DataLoader(val_set, batch_size=TaskConfig.batch_size,\n",
        "                        shuffle=False, collate_fn=Collator(),\n",
        "                        num_workers=2, pin_memory=True)"
      ],
      "execution_count": 15,
      "outputs": []
    },
    {
      "cell_type": "markdown",
      "metadata": {
        "id": "kTlsn6cpqUYk"
      },
      "source": [
        "### Creating MelSpecs on GPU for speeeed: "
      ]
    },
    {
      "cell_type": "code",
      "metadata": {
        "id": "pRXMt6it56fW"
      },
      "source": [
        "class LogMelspec:\n",
        "\n",
        "    def __init__(self, is_train, config):\n",
        "        # with augmentations\n",
        "        if is_train:\n",
        "            self.melspec = nn.Sequential(\n",
        "                torchaudio.transforms.MelSpectrogram(\n",
        "                    sample_rate=config.sample_rate,\n",
        "                    n_fft=400,\n",
        "                    win_length=400,\n",
        "                    hop_length=160,\n",
        "                    n_mels=config.n_mels\n",
        "                ),\n",
        "                torchaudio.transforms.FrequencyMasking(freq_mask_param=15),\n",
        "                torchaudio.transforms.TimeMasking(time_mask_param=35),\n",
        "            ).to(config.device)\n",
        "\n",
        "        # no augmentations\n",
        "        else:\n",
        "            self.melspec = torchaudio.transforms.MelSpectrogram(\n",
        "                sample_rate=config.sample_rate,\n",
        "                n_fft=400,\n",
        "                win_length=400,\n",
        "                hop_length=160,\n",
        "                n_mels=config.n_mels\n",
        "            ).to(config.device)\n",
        "\n",
        "    def __call__(self, batch):\n",
        "        # already on device\n",
        "        return torch.log(self.melspec(batch).clamp_(min=1e-9, max=1e9))"
      ],
      "execution_count": 16,
      "outputs": []
    },
    {
      "cell_type": "code",
      "metadata": {
        "id": "Pqkz4_gn8BiF"
      },
      "source": [
        "melspec_train = LogMelspec(is_train=True, config=TaskConfig)\n",
        "melspec_val = LogMelspec(is_train=False, config=TaskConfig)"
      ],
      "execution_count": 17,
      "outputs": []
    },
    {
      "cell_type": "markdown",
      "metadata": {
        "id": "1PSGwDbfMNO4"
      },
      "source": [
        "## LET's add some functions for memory/macs/etc estimation\n",
        "\n"
      ]
    },
    {
      "cell_type": "code",
      "metadata": {
        "id": "rqrjYbxbMVrA"
      },
      "source": [
        "#memory\n",
        "def get_size_in_megabytes(model):\n",
        "    num_params = sum([p.numel() for p in model.parameters() if p.requires_grad])\n",
        "    param_size = next(model.parameters()).element_size()\n",
        "    return (num_params * param_size) / (2 ** 20)"
      ],
      "execution_count": 18,
      "outputs": []
    },
    {
      "cell_type": "code",
      "metadata": {
        "colab": {
          "base_uri": "https://localhost:8080/"
        },
        "id": "CtFozO3qMfo0",
        "outputId": "1960a1b0-c258-46bd-dc71-29c9661cde5a"
      },
      "source": [
        "!pip install thop"
      ],
      "execution_count": 19,
      "outputs": [
        {
          "output_type": "stream",
          "name": "stdout",
          "text": [
            "Collecting thop\n",
            "  Downloading thop-0.0.31.post2005241907-py3-none-any.whl (8.7 kB)\n",
            "Requirement already satisfied: torch>=1.0.0 in /usr/local/lib/python3.7/dist-packages (from thop) (1.10.0+cu111)\n",
            "Requirement already satisfied: typing-extensions in /usr/local/lib/python3.7/dist-packages (from torch>=1.0.0->thop) (3.10.0.2)\n",
            "Installing collected packages: thop\n",
            "Successfully installed thop-0.0.31.post2005241907\n"
          ]
        }
      ]
    },
    {
      "cell_type": "code",
      "metadata": {
        "id": "y70PgrI0MqTE"
      },
      "source": [
        "from thop import profile\n",
        "\n",
        "#macs\n",
        "def get_macs(model):\n",
        "    return profile(model, (torch.rand(1, TaskConfig.n_mels, 300), ))\n",
        "\n",
        "#combine all info\n",
        "def model_info(model):\n",
        "    model_sz = get_size_in_megabytes(model)\n",
        "    macs, params = get_macs(model)\n",
        "    print(f'Model size {model_sz} MB, model macs {macs}, model parametrs count {params}')"
      ],
      "execution_count": 20,
      "outputs": []
    },
    {
      "cell_type": "markdown",
      "metadata": {
        "id": "zoAxmihY8yxr"
      },
      "source": [
        "### Quality measurment functions:"
      ]
    },
    {
      "cell_type": "code",
      "metadata": {
        "id": "euwD1UyuqUYk"
      },
      "source": [
        "# FA - true: 0, model: 1\n",
        "# FR - true: 1, model: 0\n",
        "\n",
        "def count_FA_FR(preds, labels):\n",
        "    FA = torch.sum(preds[labels == 0])\n",
        "    FR = torch.sum(labels[preds == 0])\n",
        "    \n",
        "    # torch.numel - returns total number of elements in tensor\n",
        "    return FA.item() / torch.numel(preds), FR.item() / torch.numel(preds)"
      ],
      "execution_count": 21,
      "outputs": []
    },
    {
      "cell_type": "code",
      "metadata": {
        "id": "YHBUrkT1qUYk"
      },
      "source": [
        "def get_au_fa_fr(probs, labels):\n",
        "    sorted_probs, _ = torch.sort(probs)\n",
        "    sorted_probs = torch.cat((torch.Tensor([0]), sorted_probs, torch.Tensor([1])))\n",
        "    labels = torch.cat(labels, dim=0)\n",
        "        \n",
        "    FAs, FRs = [], []\n",
        "    for prob in sorted_probs:\n",
        "        preds = (probs >= prob) * 1\n",
        "        FA, FR = count_FA_FR(preds, labels)        \n",
        "        FAs.append(FA)\n",
        "        FRs.append(FR)\n",
        "    # plt.plot(FAs, FRs)\n",
        "    # plt.show()\n",
        "\n",
        "    # ~ area under curve using trapezoidal rule\n",
        "    return -np.trapz(FRs, x=FAs)"
      ],
      "execution_count": 22,
      "outputs": []
    },
    {
      "cell_type": "markdown",
      "metadata": {
        "id": "CcEP5cEZqUYl"
      },
      "source": [
        "# Model"
      ]
    },
    {
      "cell_type": "code",
      "metadata": {
        "colab": {
          "base_uri": "https://localhost:8080/"
        },
        "id": "2cP_pFIsy5p2",
        "outputId": "09937165-9b49-4d78-da4e-a863ccddd7ee"
      },
      "source": [
        "class Attention(nn.Module):\n",
        "\n",
        "    def __init__(self, hidden_size: int):\n",
        "        super().__init__()\n",
        "\n",
        "        self.energy = nn.Sequential(\n",
        "            nn.Linear(hidden_size, hidden_size),\n",
        "            nn.Tanh(),\n",
        "            nn.Linear(hidden_size, 1)\n",
        "        )\n",
        "    \n",
        "    def forward(self, input):\n",
        "        energy = self.energy(input)\n",
        "        alpha = torch.softmax(energy, dim=-2)\n",
        "        return (input * alpha).sum(dim=-2)\n",
        "\n",
        "class CRNN(nn.Module):\n",
        "\n",
        "    def __init__(self, config: TaskConfig):\n",
        "        super().__init__()\n",
        "        self.config = config\n",
        "\n",
        "        self.conv = nn.Sequential(\n",
        "            nn.Conv2d(\n",
        "                in_channels=1, out_channels=config.cnn_out_channels,\n",
        "                kernel_size=config.kernel_size, stride=config.stride\n",
        "            ),\n",
        "            nn.Flatten(start_dim=1, end_dim=2),\n",
        "        )\n",
        "\n",
        "        self.conv_out_frequency = (config.n_mels - config.kernel_size[0]) // \\\n",
        "            config.stride[0] + 1\n",
        "        \n",
        "        self.gru = nn.GRU(\n",
        "            input_size=self.conv_out_frequency * config.cnn_out_channels,\n",
        "            hidden_size=config.hidden_size,\n",
        "            num_layers=config.gru_num_layers,\n",
        "            dropout=0.1,\n",
        "            bidirectional=config.bidirectional,\n",
        "            batch_first=True\n",
        "        )\n",
        "\n",
        "        self.attention = Attention(config.hidden_size)\n",
        "        self.classifier = nn.Linear(config.hidden_size, config.num_classes)\n",
        "    \n",
        "    def forward(self, input):\n",
        "        input = input.unsqueeze(dim=1)\n",
        "        conv_output = self.conv(input).transpose(-1, -2)\n",
        "        gru_output, _ = self.gru(conv_output)\n",
        "        contex_vector = self.attention(gru_output)\n",
        "        output = self.classifier(contex_vector)\n",
        "        return output\n",
        "\n",
        "config = TaskConfig()\n",
        "model = CRNN(config)\n",
        "model"
      ],
      "execution_count": 67,
      "outputs": [
        {
          "output_type": "execute_result",
          "data": {
            "text/plain": [
              "CRNN(\n",
              "  (conv): Sequential(\n",
              "    (0): Conv2d(1, 8, kernel_size=(5, 20), stride=(2, 8))\n",
              "    (1): Flatten(start_dim=1, end_dim=2)\n",
              "  )\n",
              "  (gru): GRU(144, 64, num_layers=2, batch_first=True, dropout=0.1)\n",
              "  (attention): Attention(\n",
              "    (energy): Sequential(\n",
              "      (0): Linear(in_features=64, out_features=64, bias=True)\n",
              "      (1): Tanh()\n",
              "      (2): Linear(in_features=64, out_features=1, bias=True)\n",
              "    )\n",
              "  )\n",
              "  (classifier): Linear(in_features=64, out_features=2, bias=True)\n",
              ")"
            ]
          },
          "metadata": {},
          "execution_count": 67
        }
      ]
    },
    {
      "cell_type": "code",
      "metadata": {
        "id": "DmmSFvWaqUYn"
      },
      "source": [
        "def train_epoch(model, opt, loader, log_melspec, device):\n",
        "    model.train()\n",
        "    for i, (batch, labels) in tqdm(enumerate(loader), total=len(loader)):\n",
        "        batch, labels = batch.to(device), labels.to(device)\n",
        "        batch = log_melspec(batch)\n",
        "\n",
        "        opt.zero_grad()\n",
        "\n",
        "        # run model # with autocast():\n",
        "        logits = model(batch)\n",
        "        # we need probabilities so we use softmax & CE separately\n",
        "        probs = F.softmax(logits, dim=-1)\n",
        "        loss = F.cross_entropy(logits, labels)\n",
        "\n",
        "        loss.backward()\n",
        "        torch.nn.utils.clip_grad_norm_(model.parameters(), 5)\n",
        "\n",
        "        opt.step()\n",
        "\n",
        "        # logging\n",
        "        argmax_probs = torch.argmax(probs, dim=-1)\n",
        "        FA, FR = count_FA_FR(argmax_probs, labels)\n",
        "        acc = torch.sum(argmax_probs == labels) / torch.numel(argmax_probs)\n",
        "\n",
        "    return acc"
      ],
      "execution_count": 24,
      "outputs": []
    },
    {
      "cell_type": "code",
      "metadata": {
        "id": "UIeRbn4tqUYo"
      },
      "source": [
        "@torch.no_grad()\n",
        "def validation(model, loader, log_melspec, device):\n",
        "    model.eval()\n",
        "\n",
        "    val_losses, accs, FAs, FRs = [], [], [], []\n",
        "    all_probs, all_labels = [], []\n",
        "    for i, (batch, labels) in tqdm(enumerate(loader)):\n",
        "        batch, labels = batch.to(device), labels.to(device)\n",
        "        batch = log_melspec(batch)\n",
        "\n",
        "        output = model(batch)\n",
        "        # we need probabilities so we use softmax & CE separately\n",
        "        probs = F.softmax(output, dim=-1)\n",
        "        loss = F.cross_entropy(output, labels)\n",
        "\n",
        "        # logging\n",
        "        argmax_probs = torch.argmax(probs, dim=-1)\n",
        "        all_probs.append(probs[:, 1].cpu())\n",
        "        all_labels.append(labels.cpu())\n",
        "        val_losses.append(loss.item())\n",
        "        accs.append(\n",
        "            torch.sum(argmax_probs == labels).item() /  # ???\n",
        "            torch.numel(argmax_probs)\n",
        "        )\n",
        "        FA, FR = count_FA_FR(argmax_probs, labels)\n",
        "        FAs.append(FA)\n",
        "        FRs.append(FR)\n",
        "\n",
        "    # area under FA/FR curve for whole loader\n",
        "    au_fa_fr = get_au_fa_fr(torch.cat(all_probs, dim=0).cpu(), all_labels)\n",
        "    return au_fa_fr"
      ],
      "execution_count": 25,
      "outputs": []
    },
    {
      "cell_type": "code",
      "metadata": {
        "id": "PpyvKwp0k3IU"
      },
      "source": [
        "from collections import defaultdict\n",
        "from IPython.display import clear_output\n",
        "from matplotlib import pyplot as plt\n",
        "\n",
        "history = defaultdict(list)"
      ],
      "execution_count": 26,
      "outputs": []
    },
    {
      "cell_type": "markdown",
      "metadata": {
        "id": "GSNW-nZCJ4Q0"
      },
      "source": [
        "# Training"
      ]
    },
    {
      "cell_type": "code",
      "metadata": {
        "colab": {
          "base_uri": "https://localhost:8080/"
        },
        "id": "Q8sVpHNoocgA",
        "outputId": "72677deb-ea4b-4878-ad86-9f6cef48514f"
      },
      "source": [
        "config = TaskConfig()\n",
        "model = CRNN(config).to(config.device)\n",
        "\n",
        "print(model)\n",
        "\n",
        "opt = torch.optim.Adam(\n",
        "    model.parameters(),\n",
        "    lr=config.learning_rate,\n",
        "    weight_decay=config.weight_decay\n",
        ")"
      ],
      "execution_count": 68,
      "outputs": [
        {
          "output_type": "stream",
          "name": "stdout",
          "text": [
            "CRNN(\n",
            "  (conv): Sequential(\n",
            "    (0): Conv2d(1, 8, kernel_size=(5, 20), stride=(2, 8))\n",
            "    (1): Flatten(start_dim=1, end_dim=2)\n",
            "  )\n",
            "  (gru): GRU(144, 64, num_layers=2, batch_first=True, dropout=0.1)\n",
            "  (attention): Attention(\n",
            "    (energy): Sequential(\n",
            "      (0): Linear(in_features=64, out_features=64, bias=True)\n",
            "      (1): Tanh()\n",
            "      (2): Linear(in_features=64, out_features=1, bias=True)\n",
            "    )\n",
            "  )\n",
            "  (classifier): Linear(in_features=64, out_features=2, bias=True)\n",
            ")\n"
          ]
        }
      ]
    },
    {
      "cell_type": "code",
      "metadata": {
        "colab": {
          "base_uri": "https://localhost:8080/"
        },
        "id": "zedXm9dmINAE",
        "outputId": "2c6f7fbc-be9c-41a7-9ad5-57a6494a0200"
      },
      "source": [
        "sum([p.numel() for p in model.parameters()])"
      ],
      "execution_count": 28,
      "outputs": [
        {
          "output_type": "execute_result",
          "data": {
            "text/plain": [
              "70443"
            ]
          },
          "metadata": {},
          "execution_count": 28
        }
      ]
    },
    {
      "cell_type": "code",
      "metadata": {
        "id": "vt2kjqC-IobK"
      },
      "source": [
        ""
      ],
      "execution_count": null,
      "outputs": []
    },
    {
      "cell_type": "code",
      "metadata": {
        "colab": {
          "base_uri": "https://localhost:8080/",
          "height": 296
        },
        "id": "32oooz4lqUYo",
        "scrolled": false,
        "outputId": "5a3a4698-c4ad-470f-e9cb-132b7cc1a304"
      },
      "source": [
        "# TRAIN\n",
        "\n",
        "for n in range(TaskConfig.num_epochs):\n",
        "\n",
        "    train_epoch(model, opt, train_loader,\n",
        "                melspec_train, config.device)\n",
        "\n",
        "    au_fa_fr = validation(model, val_loader,\n",
        "                          melspec_val, config.device)\n",
        "    history['val_metric'].append(au_fa_fr)\n",
        "\n",
        "    clear_output()\n",
        "    plt.plot(history['val_metric'])\n",
        "    plt.ylabel('Metric')\n",
        "    plt.xlabel('Epoch')\n",
        "    plt.grid()\n",
        "    plt.show()\n",
        "\n",
        "    print('END OF EPOCH', n)"
      ],
      "execution_count": null,
      "outputs": [
        {
          "output_type": "display_data",
          "data": {
            "image/png": "[encoded data removed]",
            "text/plain": [
              "<Figure size 432x288 with 1 Axes>"
            ]
          },
          "metadata": {
            "needs_background": "light"
          }
        },
        {
          "output_type": "stream",
          "name": "stdout",
          "text": [
            "END OF EPOCH 19\n"
          ]
        }
      ]
    },
    {
      "cell_type": "code",
      "metadata": {
        "id": "-B8nI6FGXO3E"
      },
      "source": [
        "# torch.save(model.state_dict(), \"base_model.pt\")"
      ],
      "execution_count": null,
      "outputs": []
    },
    {
      "cell_type": "code",
      "metadata": {
        "colab": {
          "base_uri": "https://localhost:8080/"
        },
        "id": "WBkTUHZcVugz",
        "outputId": "373032a6-de7b-4e12-c7e6-5482121c4510"
      },
      "source": [
        "history"
      ],
      "execution_count": null,
      "outputs": [
        {
          "output_type": "execute_result",
          "data": {
            "text/plain": [
              "defaultdict(list,\n",
              "            {'val_metric': [0.0004554193612008855,\n",
              "              0.00015329436226385482,\n",
              "              0.00013426982057523876,\n",
              "              7.770343705378597e-05,\n",
              "              6.752280088039229e-05,\n",
              "              5.916823426682188e-05,\n",
              "              5.3087303281658856e-05,\n",
              "              5.3988402966408226e-05,\n",
              "              4.8187946717557916e-05,\n",
              "              4.302601805988763e-05,\n",
              "              4.3509389413958476e-05,\n",
              "              3.230233505661189e-05,\n",
              "              3.781038147398723e-05,\n",
              "              3.8806961920034566e-05,\n",
              "              2.9980959047555538e-05,\n",
              "              3.127591687265895e-05,\n",
              "              3.468338654147945e-05,\n",
              "              2.3697131444634362e-05,\n",
              "              2.7796836632864986e-05,\n",
              "              3.757167957074237e-05]})"
            ]
          },
          "metadata": {},
          "execution_count": 71
        }
      ]
    },
    {
      "cell_type": "code",
      "metadata": {
        "colab": {
          "base_uri": "https://localhost:8080/"
        },
        "id": "vP6n_NsZeSea",
        "outputId": "99ff403c-6b6c-4377-ff87-2d16391a0391"
      },
      "source": [
        "config = TaskConfig()\n",
        "model = CRNN(config)\n",
        "model.load_state_dict(torch.load('base_model.pt'))"
      ],
      "execution_count": 69,
      "outputs": [
        {
          "output_type": "execute_result",
          "data": {
            "text/plain": [
              "<All keys matched successfully>"
            ]
          },
          "metadata": {},
          "execution_count": 69
        }
      ]
    },
    {
      "cell_type": "code",
      "metadata": {
        "colab": {
          "base_uri": "https://localhost:8080/"
        },
        "id": "wNyuRDDzSGQT",
        "outputId": "d2cce50b-bfca-4de8-9a9a-83df8676e8af"
      },
      "source": [
        "model_info(model)"
      ],
      "execution_count": 31,
      "outputs": [
        {
          "output_type": "stream",
          "name": "stdout",
          "text": [
            "[INFO] Register count_convNd() for <class 'torch.nn.modules.conv.Conv2d'>.\n",
            "\u001b[91m[WARN] Cannot find rule for <class 'torch.nn.modules.flatten.Flatten'>. Treat it as zero Macs and zero Params.\u001b[00m\n",
            "\u001b[91m[WARN] Cannot find rule for <class 'torch.nn.modules.container.Sequential'>. Treat it as zero Macs and zero Params.\u001b[00m\n",
            "[INFO] Register count_gru() for <class 'torch.nn.modules.rnn.GRU'>.\n",
            "[INFO] Register count_linear() for <class 'torch.nn.modules.linear.Linear'>.\n",
            "\u001b[91m[WARN] Cannot find rule for <class 'torch.nn.modules.activation.Tanh'>. Treat it as zero Macs and zero Params.\u001b[00m\n",
            "\u001b[91m[WARN] Cannot find rule for <class '__main__.Attention'>. Treat it as zero Macs and zero Params.\u001b[00m\n",
            "\u001b[91m[WARN] Cannot find rule for <class '__main__.CRNN'>. Treat it as zero Macs and zero Params.\u001b[00m\n",
            "Model size 0.2687187194824219 MB, model macs 3055808.0, model parametrs count 70443.0\n"
          ]
        }
      ]
    },
    {
      "cell_type": "code",
      "metadata": {
        "colab": {
          "base_uri": "https://localhost:8080/"
        },
        "id": "jvRUdg6I1zFq",
        "outputId": "a8207d73-2cd5-4836-aebe-95bd5998f987"
      },
      "source": [
        "validation(model.to(config.device), val_loader, melspec_val, config.device)"
      ],
      "execution_count": null,
      "outputs": [
        {
          "output_type": "stream",
          "name": "stderr",
          "text": [
            "102it [00:07, 13.31it/s]\n"
          ]
        },
        {
          "output_type": "execute_result",
          "data": {
            "text/plain": [
              "3.757167957074237e-05"
            ]
          },
          "metadata": {},
          "execution_count": 33
        }
      ]
    },
    {
      "cell_type": "code",
      "metadata": {
        "id": "rJ4VUimv2hDH"
      },
      "source": [
        "#so here we have our results for our BASE model\n",
        "#lets make dictionary for all results\n",
        "RESULTS = dict()\n",
        "RESULTS['base_model'] = {'macs': 3055808, 'model_sz': 0.2687187194824219, 'file_sz': 278.51, 'params': 70443, 'metric': 3.76e-5}"
      ],
      "execution_count": 30,
      "outputs": []
    },
    {
      "cell_type": "markdown",
      "metadata": {
        "id": "QRZB9KXyVvfa"
      },
      "source": [
        "### Reproduce"
      ]
    },
    {
      "cell_type": "code",
      "metadata": {
        "id": "t55FUkOGh9pT",
        "colab": {
          "base_uri": "https://localhost:8080/"
        },
        "outputId": "3b7e14c2-41c5-4d95-a3a3-1eb885976a4d"
      },
      "source": [
        "history = defaultdict(list)\n",
        "config = TaskConfig()\n",
        "model = CRNN(config).to(config.device)\n",
        "\n",
        "print(model)\n",
        "\n",
        "opt = torch.optim.Adam(\n",
        "    model.parameters(),\n",
        "    lr=config.learning_rate,\n",
        "    weight_decay=config.weight_decay\n",
        ")"
      ],
      "execution_count": null,
      "outputs": [
        {
          "output_type": "stream",
          "name": "stdout",
          "text": [
            "CRNN(\n",
            "  (conv): Sequential(\n",
            "    (0): Conv2d(1, 8, kernel_size=(5, 20), stride=(2, 8))\n",
            "    (1): Flatten(start_dim=1, end_dim=2)\n",
            "  )\n",
            "  (gru): GRU(144, 64, num_layers=2, batch_first=True, dropout=0.1)\n",
            "  (attention): Attention(\n",
            "    (energy): Sequential(\n",
            "      (0): Linear(in_features=64, out_features=64, bias=True)\n",
            "      (1): Tanh()\n",
            "      (2): Linear(in_features=64, out_features=1, bias=True)\n",
            "    )\n",
            "  )\n",
            "  (classifier): Linear(in_features=64, out_features=2, bias=True)\n",
            ")\n"
          ]
        }
      ]
    },
    {
      "cell_type": "code",
      "metadata": {
        "colab": {
          "base_uri": "https://localhost:8080/",
          "height": 301
        },
        "id": "RqGOlKZbVt6j",
        "outputId": "868362be-33b1-48d7-a00f-7efa3ef91777"
      },
      "source": [
        "# TRAIN\n",
        "\n",
        "for n in range(TaskConfig.num_epochs):\n",
        "\n",
        "    train_epoch(model, opt, train_loader,\n",
        "                melspec_train, config.device)\n",
        "\n",
        "    au_fa_fr = validation(model, val_loader,\n",
        "                          melspec_val, config.device)\n",
        "    history['val_metric'].append(au_fa_fr)\n",
        "\n",
        "    clear_output()\n",
        "    plt.plot(history['val_metric'])\n",
        "    plt.ylabel('Metric')\n",
        "    plt.xlabel('Epoch')\n",
        "    plt.grid()\n",
        "    plt.show()\n",
        "\n",
        "    print('END OF EPOCH', n)"
      ],
      "execution_count": null,
      "outputs": [
        {
          "output_type": "display_data",
          "data": {
            "image/png": "[encoded data removed]",
            "text/plain": [
              "<Figure size 432x288 with 1 Axes>"
            ]
          },
          "metadata": {
            "needs_background": "light"
          }
        },
        {
          "output_type": "stream",
          "name": "stdout",
          "text": [
            "END OF EPOCH 19\n"
          ]
        }
      ]
    },
    {
      "cell_type": "code",
      "metadata": {
        "colab": {
          "base_uri": "https://localhost:8080/"
        },
        "id": "52G9D8SDV1Qa",
        "outputId": "9e4704b3-28f2-432d-c703-91531bf95437"
      },
      "source": [
        "history"
      ],
      "execution_count": null,
      "outputs": [
        {
          "output_type": "execute_result",
          "data": {
            "text/plain": [
              "defaultdict(list,\n",
              "            {'val_metric': [0.000668929262332049,\n",
              "              0.00027623777753012457,\n",
              "              0.000239244950074751,\n",
              "              0.00012088461135078273,\n",
              "              0.00011483351810352531,\n",
              "              0.00010863323616673985,\n",
              "              9.895387399016041e-05,\n",
              "              7.682024001177994e-05,\n",
              "              7.689185058275341e-05,\n",
              "              9.416790083010079e-05,\n",
              "              6.19491114396246e-05,\n",
              "              6.048109473466867e-05,\n",
              "              4.3927117744637006e-05,\n",
              "              4.470886647776394e-05,\n",
              "              4.689895644003562e-05,\n",
              "              4.1432682855728125e-05,\n",
              "              4.487595781003536e-05,\n",
              "              4.859373995307418e-05,\n",
              "              3.7416523333633206e-05,\n",
              "              3.898002079988709e-05]})"
            ]
          },
          "metadata": {},
          "execution_count": 34
        }
      ]
    },
    {
      "cell_type": "code",
      "metadata": {
        "id": "1guSqniIfz54"
      },
      "source": [
        ""
      ],
      "execution_count": null,
      "outputs": []
    },
    {
      "cell_type": "markdown",
      "metadata": {
        "id": "tfsd0Oto2P0D"
      },
      "source": [
        "### Streaming"
      ]
    },
    {
      "cell_type": "code",
      "metadata": {
        "id": "e4PsVk_LybkJ"
      },
      "source": [
        "#let's take 4 random words and one sheila of course(we put it in the middle)\n",
        "paths = ['speech_commands/left/f852895b_nohash_1.wav',\n",
        "         'speech_commands/off/2fa39636_nohash_1.wav',\n",
        "         'speech_commands/sheila/51eefcc6_nohash_0.wav',\n",
        "         'speech_commands/one/ec5ab5d5_nohash_2.wav',\n",
        "         'speech_commands/no/97f493b9_nohash_1.wav']"
      ],
      "execution_count": 41,
      "outputs": []
    },
    {
      "cell_type": "code",
      "metadata": {
        "id": "V6ioRyxi367j"
      },
      "source": [
        "#concatenate all our audios(words)\n",
        "audios = torch.tensor([])\n",
        "for p in paths:\n",
        "    audio,  _ = torchaudio.load(p)\n",
        "    audios = torch.cat((audios, audio), dim=-1)"
      ],
      "execution_count": 42,
      "outputs": []
    },
    {
      "cell_type": "code",
      "metadata": {
        "id": "ni405fP62ZGv"
      },
      "source": [
        "#here our streaming model\n",
        "class StreamingModel(nn.Module):\n",
        "    def __init__(self, model, config, max_window_length):\n",
        "        super().__init__()\n",
        "        self.config = config\n",
        "        self.model = model\n",
        "        self.max_length = max_window_length\n",
        "\n",
        "    @torch.no_grad()\n",
        "    def fwd(self, x, hidden):\n",
        "\n",
        "        self.memory = torch.cat((self.memory, x), dim=2)[:, :, -self.max_length:]\n",
        "\n",
        "        #one step for streaming model\n",
        "        inp = self.memory.unsqueeze(dim=1)\n",
        "        conv_ = self.model.conv(inp).transpose(-1, -2)\n",
        "        output, hidden = self.model.gru(conv_, hidden)\n",
        "        contex_vector = self.model.attention(output)\n",
        "        logits = self.model.classifier(contex_vector)\n",
        "\n",
        "        probs = F.softmax(logits, dim=-1)\n",
        "\n",
        "        return probs.cpu(), hidden\n",
        "    \n",
        "\n",
        "    @torch.no_grad()\n",
        "    def reset_memory(self, x):\n",
        "        sz = [1, self.config.n_mels, self.max_length]\n",
        "        if x.dim() != 2:\n",
        "          sz[0] = x.size(0)\n",
        "        self.memory = torch.zeros(tuple(sz)).to(self.config.device)"
      ],
      "execution_count": 95,
      "outputs": []
    },
    {
      "cell_type": "code",
      "metadata": {
        "id": "8qggbn2CwYFA"
      },
      "source": [
        "#here we create base model and then create a streaming one\n",
        "config = TaskConfig()\n",
        "model = CRNN(config)\n",
        "model.load_state_dict(torch.load('base_model.pt'))\n",
        "streaming_model = StreamingModel(model, config, max_window_length=40)\n",
        "streaming_model = streaming_model.to(config.device)"
      ],
      "execution_count": 96,
      "outputs": []
    },
    {
      "cell_type": "code",
      "metadata": {
        "colab": {
          "base_uri": "https://localhost:8080/",
          "height": 312
        },
        "id": "ag-5XTpl5YIp",
        "outputId": "feb945b8-c175-432e-bc73-d7fdd18a3be7"
      },
      "source": [
        "streaming_model.eval()\n",
        "\n",
        "melspec = LogMelspec(is_train=False, config=config)\n",
        "spec = melspec(audios.to(config.device))\n",
        "streaming_model.reset_memory(spec)\n",
        "\n",
        "hidden = None\n",
        "results = []\n",
        "\n",
        "streaming_step_size = 1\n",
        "max_window_length = 40\n",
        "\n",
        "for i in range(max_window_length, spec.shape[2] + 1, streaming_step_size):\n",
        "    tmp = spec[:, :, i - max_window_length:i]\n",
        "    if hidden is not None:\n",
        "        hidden.to(config.device)\n",
        "    outs, hidden = streaming_model.fwd(tmp.to(config.device), hidden)\n",
        "    results.append(outs[0][1]) \n",
        "\n",
        "plt.plot(results)\n",
        "plt.title(\"Probabilities of our keyword\")\n",
        "plt.xlabel(\"time\")\n",
        "plt.ylabel(\"Probability\")"
      ],
      "execution_count": 111,
      "outputs": [
        {
          "output_type": "execute_result",
          "data": {
            "text/plain": [
              "Text(0, 0.5, 'Probability')"
            ]
          },
          "metadata": {},
          "execution_count": 111
        },
        {
          "output_type": "display_data",
          "data": {
            "image/png": "[encoded data removed]",
            "text/plain": [
              "<Figure size 432x288 with 1 Axes>"
            ]
          },
          "metadata": {
            "needs_background": "light"
          }
        }
      ]
    },
    {
      "cell_type": "markdown",
      "metadata": {
        "id": "buT_tanQ4D6z"
      },
      "source": [
        "### DK Distillation\n"
      ]
    },
    {
      "cell_type": "code",
      "metadata": {
        "id": "PX9HFpHP4GUF"
      },
      "source": [
        "def train_epoch_with_teacher(model, teacher, opt, loader, log_melspec, device, T=20):\n",
        "        model.train()\n",
        "        for i, (batch, labels) in tqdm(enumerate(loader), total=len(loader)):\n",
        "            batch, labels = batch.to(device), labels.to(device)\n",
        "            batch = log_melspec(batch).to(device)\n",
        "\n",
        "            opt.zero_grad()\n",
        "\n",
        "            # run model # with autocast():\n",
        "            logits_main = model(batch)\n",
        "            logits_teacher = teacher(batch)\n",
        "            # we need probabilities so we use softmax & CE separately\n",
        "            probs_main = F.softmax(logits_main, dim=-1)\n",
        "            probs_teacher = F.softmax(logits_teacher / T, dim=-1)\n",
        "\n",
        "            #losses\n",
        "            loss_main = F.cross_entropy(logits_main, labels)\n",
        "            loss_teacher = -(probs_main * probs_teacher).sum(dim=-1).mean()\n",
        "            loss_main += loss_teacher\n",
        "\n",
        "\n",
        "            loss_main.backward()\n",
        "            torch.nn.utils.clip_grad_norm_(model.parameters(), 5)\n",
        "\n",
        "            opt.step()\n",
        "\n",
        "            # logging\n",
        "            argmax_probs = torch.argmax(probs_main, dim=-1)\n",
        "            FA, FR = count_FA_FR(argmax_probs, labels)\n",
        "            acc = torch.sum(argmax_probs == labels) / torch.numel(argmax_probs)\n",
        "\n",
        "        return acc\n",
        "\n",
        "#but we don't need to change anything in validation!"
      ],
      "execution_count": 112,
      "outputs": []
    },
    {
      "cell_type": "code",
      "metadata": {
        "id": "k2S_3F-47pC_"
      },
      "source": [
        "#simply decrease hidden size by 2 times\n",
        "#channels also by 2 times\n",
        "\n",
        "@dataclasses.dataclass\n",
        "class DKD_TaskConfig:\n",
        "    keyword: str = 'sheila'  # We will use 1 key word -- 'sheila'\n",
        "    batch_size: int = 128\n",
        "    learning_rate: float = 3e-4\n",
        "    weight_decay: float = 1e-5\n",
        "    num_epochs: int = 20\n",
        "    n_mels: int = 40\n",
        "    cnn_out_channels: int = 4\n",
        "    kernel_size: Tuple[int, int] = (5, 20)\n",
        "    stride: Tuple[int, int] = (2, 8)\n",
        "    hidden_size: int = 32\n",
        "    gru_num_layers: int = 2\n",
        "    bidirectional: bool = False\n",
        "    num_classes: int = 2\n",
        "    sample_rate: int = 16000\n",
        "    device: torch.device = torch.device(\n",
        "        'cuda:0' if torch.cuda.is_available() else 'cpu')"
      ],
      "execution_count": 113,
      "outputs": []
    },
    {
      "cell_type": "code",
      "metadata": {
        "colab": {
          "base_uri": "https://localhost:8080/",
          "height": 316
        },
        "id": "grLN96OW6eSB",
        "outputId": "bfa2fb9c-0e88-40c5-d5e5-dc78659e6a8d"
      },
      "source": [
        "history = defaultdict(list)\n",
        "#so we want our new model to be better than base_model_score * 1.1 (or we can even put 1.05)\n",
        "GOOD_QUALITY = RESULTS['base_model']['metric'] * 1.075\n",
        "\n",
        "config = DKD_TaskConfig()\n",
        "model = CRNN(config).to(config.device)\n",
        "teacher_config = TaskConfig()\n",
        "teacher = CRNN(teacher_config).to(config.device)\n",
        "teacher.load_state_dict(torch.load('base_model.pt'))\n",
        "\n",
        "\n",
        "opt = torch.optim.Adam(\n",
        "    model.parameters(),\n",
        "    lr=config.learning_rate,\n",
        "    weight_decay=config.weight_decay\n",
        ")\n",
        "\n",
        "#train\n",
        "# for n in range(TaskConfig.num_epochs):\n",
        "n = 1\n",
        "while len(history['val_metric']) == 0 or history['val_metric'][-1] >= GOOD_QUALITY:\n",
        "\n",
        "    train_epoch_with_teacher(model, teacher, opt, train_loader,\n",
        "                melspec_train, config.device)\n",
        "\n",
        "    au_fa_fr = validation(model, val_loader,\n",
        "                          melspec_val, config.device)\n",
        "    history['val_metric'].append(au_fa_fr)\n",
        "\n",
        "    clear_output()\n",
        "    plt.plot(history['val_metric'])\n",
        "    plt.ylabel('Metric')\n",
        "    plt.xlabel('Epoch')\n",
        "    plt.grid()\n",
        "    plt.show()\n",
        "\n",
        "    print('END OF EPOCH', n)\n",
        "    print('metric:', au_fa_fr)\n",
        "    n += 1"
      ],
      "execution_count": null,
      "outputs": [
        {
          "output_type": "display_data",
          "data": {
            "image/png": "[encoded data removed]",
            "text/plain": [
              "<Figure size 432x288 with 1 Axes>"
            ]
          },
          "metadata": {
            "needs_background": "light"
          }
        },
        {
          "output_type": "stream",
          "name": "stdout",
          "text": [
            "END OF EPOCH 27\n",
            "metric: 3.809085621029996e-05\n"
          ]
        }
      ]
    },
    {
      "cell_type": "code",
      "metadata": {
        "id": "WR57LvY_-D1h"
      },
      "source": [
        "# torch.save(model.state_dict(), 'dkd_model.pt')"
      ],
      "execution_count": null,
      "outputs": []
    },
    {
      "cell_type": "code",
      "metadata": {
        "colab": {
          "base_uri": "https://localhost:8080/"
        },
        "id": "sFxfPxqi_WVC",
        "outputId": "8562866f-17d3-42a8-88e8-137867b4da2d"
      },
      "source": [
        "config = DKD_TaskConfig()\n",
        "model = CRNN(config)\n",
        "model.load_state_dict(torch.load('dkd_model.pt'))"
      ],
      "execution_count": 114,
      "outputs": [
        {
          "output_type": "execute_result",
          "data": {
            "text/plain": [
              "<All keys matched successfully>"
            ]
          },
          "metadata": {},
          "execution_count": 114
        }
      ]
    },
    {
      "cell_type": "code",
      "metadata": {
        "colab": {
          "base_uri": "https://localhost:8080/"
        },
        "id": "7ghq1HMn8sVr",
        "outputId": "e5e9293a-ac16-44a4-a843-35eba8c44098"
      },
      "source": [
        "model_info(model.cpu())"
      ],
      "execution_count": 115,
      "outputs": [
        {
          "output_type": "stream",
          "name": "stdout",
          "text": [
            "[INFO] Register count_convNd() for <class 'torch.nn.modules.conv.Conv2d'>.\n",
            "\u001b[91m[WARN] Cannot find rule for <class 'torch.nn.modules.flatten.Flatten'>. Treat it as zero Macs and zero Params.\u001b[00m\n",
            "\u001b[91m[WARN] Cannot find rule for <class 'torch.nn.modules.container.Sequential'>. Treat it as zero Macs and zero Params.\u001b[00m\n",
            "[INFO] Register count_gru() for <class 'torch.nn.modules.rnn.GRU'>.\n",
            "[INFO] Register count_linear() for <class 'torch.nn.modules.linear.Linear'>.\n",
            "\u001b[91m[WARN] Cannot find rule for <class 'torch.nn.modules.activation.Tanh'>. Treat it as zero Macs and zero Params.\u001b[00m\n",
            "\u001b[91m[WARN] Cannot find rule for <class '__main__.Attention'>. Treat it as zero Macs and zero Params.\u001b[00m\n",
            "\u001b[91m[WARN] Cannot find rule for <class '__main__.CRNN'>. Treat it as zero Macs and zero Params.\u001b[00m\n",
            "Model size 0.06893539428710938 MB, model macs 910432.0, model parametrs count 18071.0\n"
          ]
        }
      ]
    },
    {
      "cell_type": "code",
      "metadata": {
        "colab": {
          "base_uri": "https://localhost:8080/"
        },
        "id": "ZrKcbmIFNTgH",
        "outputId": "60c31549-3897-46fa-be1e-e6b218c4866b"
      },
      "source": [
        "validation(model.to(config.device), val_loader, melspec_val, config.device)"
      ],
      "execution_count": null,
      "outputs": [
        {
          "output_type": "stream",
          "name": "stderr",
          "text": [
            "102it [00:07, 13.25it/s]\n"
          ]
        },
        {
          "output_type": "execute_result",
          "data": {
            "text/plain": [
              "3.809085621029996e-05"
            ]
          },
          "metadata": {},
          "execution_count": 45
        }
      ]
    },
    {
      "cell_type": "code",
      "metadata": {
        "id": "-ZnGXsGpNh00"
      },
      "source": [
        "RESULTS['dkd_model'] = {'macs': 910432, 'model_sz': 0.06893539428710938, 'file_sz': 73.95, 'params': 18071, 'metric': 3.81e-5}"
      ],
      "execution_count": 116,
      "outputs": []
    },
    {
      "cell_type": "markdown",
      "metadata": {
        "id": "gGvBJphbN3hH"
      },
      "source": [
        "Ага, уменьшили в 2 раза каналы и hidden_size, получили почти такое же качество(да, немного побольше эпох)\n",
        "НО! "
      ]
    },
    {
      "cell_type": "markdown",
      "metadata": {
        "id": "ySyrJLlo4dJg"
      },
      "source": [
        "### Quantization"
      ]
    },
    {
      "cell_type": "code",
      "metadata": {
        "id": "B932S6aDgGxV"
      },
      "source": [
        "def quant(conf, model_name):\n",
        "    conf.device = 'cpu'\n",
        "    tmp_model = CRNN(conf)\n",
        "    tmp_model.load_state_dict(torch.load(model_name))\n",
        "\n",
        "    q_model = torch.quantization.quantize_dynamic(\n",
        "        tmp_model, \n",
        "        {nn.GRU, nn.Conv2d, nn.Linear},\n",
        "        dtype=torch.qint8\n",
        "    )\n",
        "\n",
        "    cpu_melspec_val = LogMelspec(is_train=False, config=conf)\n",
        "\n",
        "    res = validation(q_model, val_loader, cpu_melspec_val, device='cpu')\n",
        "    print(res)\n",
        "\n",
        "    torch.save(q_model.state_dict(), 'Q8_' + model_name)\n",
        "    print(model_info(q_model))\n",
        "    return res"
      ],
      "execution_count": 117,
      "outputs": []
    },
    {
      "cell_type": "code",
      "metadata": {
        "colab": {
          "base_uri": "https://localhost:8080/"
        },
        "id": "jG_SyLfxgvVO",
        "outputId": "0b2d215e-9ad8-47ce-f350-23cb2eac5ea1"
      },
      "source": [
        "quant(TaskConfig(), 'base_model.pt')"
      ],
      "execution_count": null,
      "outputs": [
        {
          "output_type": "stream",
          "name": "stderr",
          "text": [
            "102it [00:12,  8.33it/s]\n"
          ]
        },
        {
          "output_type": "stream",
          "name": "stdout",
          "text": [
            "3.711814595457712e-05\n",
            "[INFO] Register count_convNd() for <class 'torch.nn.modules.conv.Conv2d'>.\n",
            "\u001b[91m[WARN] Cannot find rule for <class 'torch.nn.modules.flatten.Flatten'>. Treat it as zero Macs and zero Params.\u001b[00m\n",
            "\u001b[91m[WARN] Cannot find rule for <class 'torch.nn.modules.container.Sequential'>. Treat it as zero Macs and zero Params.\u001b[00m\n",
            "\u001b[91m[WARN] Cannot find rule for <class 'torch.nn.quantized.dynamic.modules.rnn.PackedParameter'>. Treat it as zero Macs and zero Params.\u001b[00m\n",
            "\u001b[91m[WARN] Cannot find rule for <class 'torch.nn.modules.container.ModuleList'>. Treat it as zero Macs and zero Params.\u001b[00m\n",
            "\u001b[91m[WARN] Cannot find rule for <class 'torch.nn.quantized.dynamic.modules.rnn.GRU'>. Treat it as zero Macs and zero Params.\u001b[00m\n",
            "\u001b[91m[WARN] Cannot find rule for <class 'torch.nn.quantized.modules.linear.LinearPackedParams'>. Treat it as zero Macs and zero Params.\u001b[00m\n",
            "\u001b[91m[WARN] Cannot find rule for <class 'torch.nn.quantized.dynamic.modules.linear.Linear'>. Treat it as zero Macs and zero Params.\u001b[00m\n",
            "\u001b[91m[WARN] Cannot find rule for <class 'torch.nn.modules.activation.Tanh'>. Treat it as zero Macs and zero Params.\u001b[00m\n",
            "\u001b[91m[WARN] Cannot find rule for <class '__main__.Attention'>. Treat it as zero Macs and zero Params.\u001b[00m\n",
            "\u001b[91m[WARN] Cannot find rule for <class '__main__.CRNN'>. Treat it as zero Macs and zero Params.\u001b[00m\n",
            "Model size 0.003082275390625 MB, model macs 523584.0, model parametrs count 808.0\n",
            "None\n"
          ]
        },
        {
          "output_type": "execute_result",
          "data": {
            "text/plain": [
              "3.711814595457712e-05"
            ]
          },
          "metadata": {},
          "execution_count": 75
        }
      ]
    },
    {
      "cell_type": "code",
      "metadata": {
        "id": "nruqV7C8fdK4"
      },
      "source": [
        "RESULTS['Q8_base_model'] = {'macs': 523584, 'model_sz': 0.003082275390625, 'file_sz': 80.78, 'params': 808, 'metric': 3.712e-5}"
      ],
      "execution_count": 118,
      "outputs": []
    },
    {
      "cell_type": "code",
      "metadata": {
        "colab": {
          "base_uri": "https://localhost:8080/"
        },
        "id": "R7vkDCdi6DTg",
        "outputId": "3d9ff901-972a-45d8-fcf0-af8c4990a418"
      },
      "source": [
        "quant(DKD_TaskConfig(), 'dkd_model.pt')"
      ],
      "execution_count": null,
      "outputs": [
        {
          "output_type": "stream",
          "name": "stderr",
          "text": [
            "102it [00:11,  8.60it/s]\n"
          ]
        },
        {
          "output_type": "stream",
          "name": "stdout",
          "text": [
            "3.687944405133225e-05\n",
            "[INFO] Register count_convNd() for <class 'torch.nn.modules.conv.Conv2d'>.\n",
            "\u001b[91m[WARN] Cannot find rule for <class 'torch.nn.modules.flatten.Flatten'>. Treat it as zero Macs and zero Params.\u001b[00m\n",
            "\u001b[91m[WARN] Cannot find rule for <class 'torch.nn.modules.container.Sequential'>. Treat it as zero Macs and zero Params.\u001b[00m\n",
            "\u001b[91m[WARN] Cannot find rule for <class 'torch.nn.quantized.dynamic.modules.rnn.PackedParameter'>. Treat it as zero Macs and zero Params.\u001b[00m\n",
            "\u001b[91m[WARN] Cannot find rule for <class 'torch.nn.modules.container.ModuleList'>. Treat it as zero Macs and zero Params.\u001b[00m\n",
            "\u001b[91m[WARN] Cannot find rule for <class 'torch.nn.quantized.dynamic.modules.rnn.GRU'>. Treat it as zero Macs and zero Params.\u001b[00m\n",
            "\u001b[91m[WARN] Cannot find rule for <class 'torch.nn.quantized.modules.linear.LinearPackedParams'>. Treat it as zero Macs and zero Params.\u001b[00m\n",
            "\u001b[91m[WARN] Cannot find rule for <class 'torch.nn.quantized.dynamic.modules.linear.Linear'>. Treat it as zero Macs and zero Params.\u001b[00m\n",
            "\u001b[91m[WARN] Cannot find rule for <class 'torch.nn.modules.activation.Tanh'>. Treat it as zero Macs and zero Params.\u001b[00m\n",
            "\u001b[91m[WARN] Cannot find rule for <class '__main__.Attention'>. Treat it as zero Macs and zero Params.\u001b[00m\n",
            "\u001b[91m[WARN] Cannot find rule for <class '__main__.CRNN'>. Treat it as zero Macs and zero Params.\u001b[00m\n",
            "Model size 0.0015411376953125 MB, model macs 261792.0, model parametrs count 404.0\n",
            "None\n"
          ]
        },
        {
          "output_type": "execute_result",
          "data": {
            "text/plain": [
              "3.687944405133225e-05"
            ]
          },
          "metadata": {},
          "execution_count": 81
        }
      ]
    },
    {
      "cell_type": "code",
      "metadata": {
        "id": "3z57yQhm55C_"
      },
      "source": [
        "RESULTS['Q8_dkd_model'] = {'macs': 261792, 'model_sz': 0.0015411376953125, 'file_sz': 27.22, 'params': 404, 'metric': 3.688e-5}"
      ],
      "execution_count": 119,
      "outputs": []
    },
    {
      "cell_type": "markdown",
      "metadata": {
        "id": "PFf2OEpmPQjF"
      },
      "source": [
        "### Again DKD"
      ]
    },
    {
      "cell_type": "code",
      "metadata": {
        "id": "97AB5C3vPT7s"
      },
      "source": [
        "#let's do something more\n",
        "#decrease hidden size by 4 times\n",
        "#channels also by 2 times\n",
        "\n",
        "@dataclasses.dataclass\n",
        "class DKD_m_TaskConfig:\n",
        "    keyword: str = 'sheila'  # We will use 1 key word -- 'sheila'\n",
        "    batch_size: int = 128\n",
        "    learning_rate: float = 3e-4\n",
        "    weight_decay: float = 1e-5\n",
        "    num_epochs: int = 20\n",
        "    n_mels: int = 40\n",
        "    cnn_out_channels: int = 4\n",
        "    kernel_size: Tuple[int, int] = (5, 20)\n",
        "    stride: Tuple[int, int] = (2, 8)\n",
        "    hidden_size: int = 16\n",
        "    gru_num_layers: int = 2\n",
        "    bidirectional: bool = False\n",
        "    num_classes: int = 2\n",
        "    sample_rate: int = 16000\n",
        "    device: torch.device = torch.device(\n",
        "        'cuda:0' if torch.cuda.is_available() else 'cpu')"
      ],
      "execution_count": 120,
      "outputs": []
    },
    {
      "cell_type": "code",
      "metadata": {
        "colab": {
          "base_uri": "https://localhost:8080/",
          "height": 316
        },
        "id": "LWIcp_6EPhFQ",
        "outputId": "6ebb8e7c-1690-4c68-a02d-fd60b6208101"
      },
      "source": [
        "history = defaultdict(list)\n",
        "#so we want our new model to be better than base_model_score * 1.1 (or we can even put 1.05)\n",
        "GOOD_QUALITY = RESULTS['base_model']['metric'] * 1.075\n",
        "\n",
        "config = DKD_m_TaskConfig()\n",
        "model = CRNN(config).to(config.device)\n",
        "teacher_config = TaskConfig()\n",
        "teacher = CRNN(teacher_config).to(config.device)\n",
        "teacher.load_state_dict(torch.load('base_model.pt'))\n",
        "\n",
        "\n",
        "opt = torch.optim.Adam(\n",
        "    model.parameters(),\n",
        "    lr=config.learning_rate,\n",
        "    weight_decay=config.weight_decay\n",
        ")\n",
        "\n",
        "#train\n",
        "# for n in range(TaskConfig.num_epochs):\n",
        "n = 1\n",
        "while len(history['val_metric']) == 0 or history['val_metric'][-1] >= GOOD_QUALITY:\n",
        "\n",
        "    train_epoch_with_teacher(model, teacher, opt, train_loader,\n",
        "                melspec_train, config.device)\n",
        "\n",
        "    au_fa_fr = validation(model, val_loader,\n",
        "                          melspec_val, config.device)\n",
        "    history['val_metric'].append(au_fa_fr)\n",
        "\n",
        "    clear_output()\n",
        "    plt.plot(history['val_metric'])\n",
        "    plt.ylabel('Metric')\n",
        "    plt.xlabel('Epoch')\n",
        "    plt.grid()\n",
        "    plt.show()\n",
        "\n",
        "    print('END OF EPOCH', n)\n",
        "    print('metric:', au_fa_fr)\n",
        "    n += 1"
      ],
      "execution_count": null,
      "outputs": [
        {
          "output_type": "display_data",
          "data": {
            "image/png": "[encoded data removed]",
            "text/plain": [
              "<Figure size 432x288 with 1 Axes>"
            ]
          },
          "metadata": {
            "needs_background": "light"
          }
        },
        {
          "output_type": "stream",
          "name": "stdout",
          "text": [
            "END OF EPOCH 43\n",
            "metric: 4.026304352982827e-05\n"
          ]
        }
      ]
    },
    {
      "cell_type": "code",
      "metadata": {
        "id": "7xsJFLHDQPGj"
      },
      "source": [
        "# torch.save(model.state_dict(), 'dkd_m_model.pt')"
      ],
      "execution_count": null,
      "outputs": []
    },
    {
      "cell_type": "code",
      "metadata": {
        "colab": {
          "base_uri": "https://localhost:8080/"
        },
        "id": "2JaBFIt2_tWR",
        "outputId": "04f11efa-d4ac-4d61-ccd0-b8e4b037f4c3"
      },
      "source": [
        "config = DKD_m_TaskConfig()\n",
        "model = CRNN(config)\n",
        "model.load_state_dict(torch.load('dkd_m_model.pt'))"
      ],
      "execution_count": 121,
      "outputs": [
        {
          "output_type": "execute_result",
          "data": {
            "text/plain": [
              "<All keys matched successfully>"
            ]
          },
          "metadata": {},
          "execution_count": 121
        }
      ]
    },
    {
      "cell_type": "code",
      "metadata": {
        "colab": {
          "base_uri": "https://localhost:8080/"
        },
        "id": "chaYF3BmQQ8B",
        "outputId": "4df5a5bf-bbac-47fa-c96b-9163889d772d"
      },
      "source": [
        "model_info(model.cpu())"
      ],
      "execution_count": 122,
      "outputs": [
        {
          "output_type": "stream",
          "name": "stdout",
          "text": [
            "[INFO] Register count_convNd() for <class 'torch.nn.modules.conv.Conv2d'>.\n",
            "\u001b[91m[WARN] Cannot find rule for <class 'torch.nn.modules.flatten.Flatten'>. Treat it as zero Macs and zero Params.\u001b[00m\n",
            "\u001b[91m[WARN] Cannot find rule for <class 'torch.nn.modules.container.Sequential'>. Treat it as zero Macs and zero Params.\u001b[00m\n",
            "[INFO] Register count_gru() for <class 'torch.nn.modules.rnn.GRU'>.\n",
            "[INFO] Register count_linear() for <class 'torch.nn.modules.linear.Linear'>.\n",
            "\u001b[91m[WARN] Cannot find rule for <class 'torch.nn.modules.activation.Tanh'>. Treat it as zero Macs and zero Params.\u001b[00m\n",
            "\u001b[91m[WARN] Cannot find rule for <class '__main__.Attention'>. Treat it as zero Macs and zero Params.\u001b[00m\n",
            "\u001b[91m[WARN] Cannot find rule for <class '__main__.CRNN'>. Treat it as zero Macs and zero Params.\u001b[00m\n",
            "Model size 0.025478363037109375 MB, model macs 493952.0, model parametrs count 6679.0\n"
          ]
        }
      ]
    },
    {
      "cell_type": "code",
      "metadata": {
        "colab": {
          "base_uri": "https://localhost:8080/"
        },
        "id": "oflM0pYmQT4l",
        "outputId": "a6041e1b-446d-49e7-e1eb-67dd8b974e90"
      },
      "source": [
        "validation(model.to(config.device), val_loader, melspec_val, config.device)"
      ],
      "execution_count": null,
      "outputs": [
        {
          "output_type": "stream",
          "name": "stderr",
          "text": [
            "102it [00:07, 13.31it/s]\n"
          ]
        },
        {
          "output_type": "execute_result",
          "data": {
            "text/plain": [
              "4.026304352982827e-05"
            ]
          },
          "metadata": {},
          "execution_count": 52
        }
      ]
    },
    {
      "cell_type": "code",
      "metadata": {
        "id": "kVF9zFNjQWdY"
      },
      "source": [
        "#results\n",
        "RESULTS['dkd_m_model'] = {'macs': 493952, 'model_sz': 0.025478363037109375, 'file_sz': 29.45, 'params': 6679, 'metric': 4.026e-5}"
      ],
      "execution_count": 123,
      "outputs": []
    },
    {
      "cell_type": "markdown",
      "metadata": {
        "id": "9u9Kd0TgQYms"
      },
      "source": [
        "### Again Quantization"
      ]
    },
    {
      "cell_type": "code",
      "metadata": {
        "colab": {
          "base_uri": "https://localhost:8080/"
        },
        "id": "gUWMdFbgjrlZ",
        "outputId": "f4e539af-5c20-491f-902e-fb8fa8db9098"
      },
      "source": [
        "#now for second try dkd\n",
        "quant(DKD_m_TaskConfig(), 'dkd_m_model.pt')"
      ],
      "execution_count": null,
      "outputs": [
        {
          "output_type": "stream",
          "name": "stderr",
          "text": [
            "102it [00:11,  8.64it/s]\n"
          ]
        },
        {
          "output_type": "stream",
          "name": "stdout",
          "text": [
            "4.199363232835356e-05\n",
            "[INFO] Register count_convNd() for <class 'torch.nn.modules.conv.Conv2d'>.\n",
            "\u001b[91m[WARN] Cannot find rule for <class 'torch.nn.modules.flatten.Flatten'>. Treat it as zero Macs and zero Params.\u001b[00m\n",
            "\u001b[91m[WARN] Cannot find rule for <class 'torch.nn.modules.container.Sequential'>. Treat it as zero Macs and zero Params.\u001b[00m\n",
            "\u001b[91m[WARN] Cannot find rule for <class 'torch.nn.quantized.dynamic.modules.rnn.PackedParameter'>. Treat it as zero Macs and zero Params.\u001b[00m\n",
            "\u001b[91m[WARN] Cannot find rule for <class 'torch.nn.modules.container.ModuleList'>. Treat it as zero Macs and zero Params.\u001b[00m\n",
            "\u001b[91m[WARN] Cannot find rule for <class 'torch.nn.quantized.dynamic.modules.rnn.GRU'>. Treat it as zero Macs and zero Params.\u001b[00m\n",
            "\u001b[91m[WARN] Cannot find rule for <class 'torch.nn.quantized.modules.linear.LinearPackedParams'>. Treat it as zero Macs and zero Params.\u001b[00m\n",
            "\u001b[91m[WARN] Cannot find rule for <class 'torch.nn.quantized.dynamic.modules.linear.Linear'>. Treat it as zero Macs and zero Params.\u001b[00m\n",
            "\u001b[91m[WARN] Cannot find rule for <class 'torch.nn.modules.activation.Tanh'>. Treat it as zero Macs and zero Params.\u001b[00m\n",
            "\u001b[91m[WARN] Cannot find rule for <class '__main__.Attention'>. Treat it as zero Macs and zero Params.\u001b[00m\n",
            "\u001b[91m[WARN] Cannot find rule for <class '__main__.CRNN'>. Treat it as zero Macs and zero Params.\u001b[00m\n",
            "Model size 0.0015411376953125 MB, model macs 261792.0, model parametrs count 404.0\n",
            "None\n"
          ]
        },
        {
          "output_type": "execute_result",
          "data": {
            "text/plain": [
              "4.199363232835356e-05"
            ]
          },
          "metadata": {},
          "execution_count": 83
        }
      ]
    },
    {
      "cell_type": "code",
      "metadata": {
        "id": "sMrrHrDCj8_L"
      },
      "source": [
        "RESULTS['Q8_dkd_m_model'] = {'macs': 261792, 'model_sz': 0.0015411376953125, 'file_sz': 15.47, 'params': 404, 'metric': 4.199e-5}"
      ],
      "execution_count": 124,
      "outputs": []
    },
    {
      "cell_type": "markdown",
      "metadata": {
        "id": "l-XfqpbwkWoz"
      },
      "source": [
        "### Attention distillation"
      ]
    },
    {
      "cell_type": "code",
      "metadata": {
        "id": "pzsDRyqFkmQg"
      },
      "source": [
        "#so here we will change training a little\n",
        "def train_epoch_with_dattention(model, teacher, opt, loader, log_melspec, device, size=64, T=20):\n",
        "    model.train()\n",
        "    for i, (batch, labels) in tqdm(enumerate(loader), total=len(loader)):\n",
        "        batch, labels = batch.to(device), labels.to(device)\n",
        "        batch = log_melspec(batch).to(device)\n",
        "\n",
        "        batch = batch[:,:,:size]\n",
        "\n",
        "        opt.zero_grad()\n",
        "\n",
        "        # run model # with autocast():\n",
        "        logits_main = model(batch)\n",
        "        logits_teacher = teacher(batch)\n",
        "        # we need probabilities so we use softmax & CE separately\n",
        "        probs_main = F.softmax(logits_main, dim=-1)\n",
        "        probs_teacher = F.softmax(logits_teacher / T, dim=-1)\n",
        "\n",
        "        #loss\n",
        "        loss_teacher = -(probs_main * probs_teacher).sum(dim=-1).mean()\n",
        "\n",
        "        loss_teacher.backward()\n",
        "        torch.nn.utils.clip_grad_norm_(model.parameters(), 5)\n",
        "\n",
        "        opt.step()\n",
        "\n",
        "        # logging\n",
        "        argmax_probs = torch.argmax(probs_main, dim=-1)\n",
        "        FA, FR = count_FA_FR(argmax_probs, labels)\n",
        "        acc = torch.sum(argmax_probs == labels) / torch.numel(argmax_probs)\n",
        "\n",
        "    return acc"
      ],
      "execution_count": 125,
      "outputs": []
    },
    {
      "cell_type": "code",
      "metadata": {
        "id": "nl580EnSp5BP"
      },
      "source": [
        "@dataclasses.dataclass\n",
        "class DA_TaskConfig:\n",
        "    keyword: str = 'sheila'  # We will use 1 key word -- 'sheila'\n",
        "    batch_size: int = 128\n",
        "    learning_rate: float = 3e-4\n",
        "    weight_decay: float = 1e-5\n",
        "    num_epochs: int = 20\n",
        "    n_mels: int = 40\n",
        "    cnn_out_channels: int = 8\n",
        "    kernel_size: Tuple[int, int] = (5, 20)\n",
        "    stride: Tuple[int, int] = (2, 8)\n",
        "    hidden_size: int = 64\n",
        "    gru_num_layers: int = 2\n",
        "    bidirectional: bool = False\n",
        "    num_classes: int = 2\n",
        "    sample_rate: int = 16000\n",
        "    device: torch.device = torch.device(\n",
        "        'cuda:0' if torch.cuda.is_available() else 'cpu')"
      ],
      "execution_count": 126,
      "outputs": []
    },
    {
      "cell_type": "code",
      "metadata": {
        "colab": {
          "base_uri": "https://localhost:8080/"
        },
        "id": "dJsxLo6MqHae",
        "outputId": "b9e40cc8-d2d7-4d22-df8b-d841aa056950"
      },
      "source": [
        "history = defaultdict(list)\n",
        "#so we want our new model to be better than base_model_score * 1.1 (or we can even put 1.05)\n",
        "GOOD_QUALITY = RESULTS['base_model']['metric'] * 1.075\n",
        "\n",
        "teacher_config = TaskConfig()\n",
        "teacher = CRNN(teacher_config).to(teacher_config.device)\n",
        "teacher.load_state_dict(torch.load('base_model.pt'))\n",
        "\n",
        "model = Attention(teacher_config.hidden_size).to(teacher_config.device)\n",
        "\n",
        "opt = torch.optim.Adam(\n",
        "    model.parameters(),\n",
        "    lr=config.learning_rate,\n",
        "    weight_decay=config.weight_decay\n",
        ")\n",
        "\n",
        "for i in range(teacher_config.num_epochs):\n",
        "    train_epoch_with_dattention(model, teacher.attention, opt, train_loader,\n",
        "                melspec_train, teacher_config.device, 64)"
      ],
      "execution_count": null,
      "outputs": [
        {
          "output_type": "stream",
          "name": "stderr",
          "text": [
            "100%|██████████| 405/405 [00:53<00:00,  7.55it/s]\n",
            "100%|██████████| 405/405 [00:53<00:00,  7.58it/s]\n",
            "100%|██████████| 405/405 [00:53<00:00,  7.62it/s]\n",
            "100%|██████████| 405/405 [00:53<00:00,  7.59it/s]\n",
            "100%|██████████| 405/405 [00:54<00:00,  7.46it/s]\n",
            "100%|██████████| 405/405 [00:53<00:00,  7.62it/s]\n",
            "100%|██████████| 405/405 [00:53<00:00,  7.63it/s]\n",
            "100%|██████████| 405/405 [00:52<00:00,  7.67it/s]\n",
            "100%|██████████| 405/405 [00:52<00:00,  7.66it/s]\n",
            "100%|██████████| 405/405 [00:52<00:00,  7.66it/s]\n",
            "100%|██████████| 405/405 [00:53<00:00,  7.58it/s]\n",
            "100%|██████████| 405/405 [00:52<00:00,  7.67it/s]\n",
            "100%|██████████| 405/405 [00:53<00:00,  7.59it/s]\n",
            "100%|██████████| 405/405 [00:53<00:00,  7.59it/s]\n",
            "100%|██████████| 405/405 [00:52<00:00,  7.66it/s]\n",
            "100%|██████████| 405/405 [00:53<00:00,  7.63it/s]\n",
            "100%|██████████| 405/405 [00:53<00:00,  7.55it/s]\n",
            "100%|██████████| 405/405 [00:52<00:00,  7.70it/s]\n",
            "100%|██████████| 405/405 [00:53<00:00,  7.61it/s]\n",
            "100%|██████████| 405/405 [00:53<00:00,  7.53it/s]\n"
          ]
        }
      ]
    },
    {
      "cell_type": "code",
      "metadata": {
        "id": "0P8BNnzL23qA"
      },
      "source": [
        "# teacher.attention = model\n",
        "# torch.save(teacher.state_dict(), 'da_model.pt')"
      ],
      "execution_count": null,
      "outputs": []
    },
    {
      "cell_type": "code",
      "metadata": {
        "colab": {
          "base_uri": "https://localhost:8080/"
        },
        "id": "OkSNPqO9_8Ii",
        "outputId": "71e3ca32-a472-4f7b-d24c-c46d6c6d31e9"
      },
      "source": [
        "config = DA_TaskConfig()\n",
        "teacher = CRNN(config)\n",
        "teacher.load_state_dict(torch.load('da_model.pt'))"
      ],
      "execution_count": 128,
      "outputs": [
        {
          "output_type": "execute_result",
          "data": {
            "text/plain": [
              "<All keys matched successfully>"
            ]
          },
          "metadata": {},
          "execution_count": 128
        }
      ]
    },
    {
      "cell_type": "code",
      "metadata": {
        "colab": {
          "base_uri": "https://localhost:8080/"
        },
        "id": "Pv-Kn8gc3ImM",
        "outputId": "731b458d-3d6a-4cf7-8e73-8ad50dea8f2d"
      },
      "source": [
        "model_info(teacher.cpu())"
      ],
      "execution_count": 129,
      "outputs": [
        {
          "output_type": "stream",
          "name": "stdout",
          "text": [
            "[INFO] Register count_convNd() for <class 'torch.nn.modules.conv.Conv2d'>.\n",
            "\u001b[91m[WARN] Cannot find rule for <class 'torch.nn.modules.flatten.Flatten'>. Treat it as zero Macs and zero Params.\u001b[00m\n",
            "\u001b[91m[WARN] Cannot find rule for <class 'torch.nn.modules.container.Sequential'>. Treat it as zero Macs and zero Params.\u001b[00m\n",
            "[INFO] Register count_gru() for <class 'torch.nn.modules.rnn.GRU'>.\n",
            "[INFO] Register count_linear() for <class 'torch.nn.modules.linear.Linear'>.\n",
            "\u001b[91m[WARN] Cannot find rule for <class 'torch.nn.modules.activation.Tanh'>. Treat it as zero Macs and zero Params.\u001b[00m\n",
            "\u001b[91m[WARN] Cannot find rule for <class '__main__.Attention'>. Treat it as zero Macs and zero Params.\u001b[00m\n",
            "\u001b[91m[WARN] Cannot find rule for <class '__main__.CRNN'>. Treat it as zero Macs and zero Params.\u001b[00m\n",
            "Model size 0.2687187194824219 MB, model macs 3055808.0, model parametrs count 70443.0\n"
          ]
        }
      ]
    },
    {
      "cell_type": "code",
      "metadata": {
        "colab": {
          "base_uri": "https://localhost:8080/"
        },
        "id": "EJp845Qd3OQp",
        "outputId": "67136b3a-3877-4c1d-9091-09d6df63c15d"
      },
      "source": [
        "validation(teacher.to(teacher_config.device), val_loader, melspec_val, teacher_config.device)"
      ],
      "execution_count": null,
      "outputs": [
        {
          "output_type": "stream",
          "name": "stderr",
          "text": [
            "102it [00:07, 13.21it/s]\n"
          ]
        },
        {
          "output_type": "execute_result",
          "data": {
            "text/plain": [
              "5.4054045989800565e-05"
            ]
          },
          "metadata": {},
          "execution_count": 110
        }
      ]
    },
    {
      "cell_type": "code",
      "metadata": {
        "id": "E8M6E0Dl3TJ0"
      },
      "source": [
        "RESULTS['da_model'] = {'macs': 3055808, 'model_sz': 0.2687187194824219, 'file_sz': 278.51, 'params': 70443, 'metric': 5.405e-5}"
      ],
      "execution_count": 130,
      "outputs": []
    },
    {
      "cell_type": "markdown",
      "metadata": {
        "id": "CQdk_QhS7bqb"
      },
      "source": [
        "### DA with quantization"
      ]
    },
    {
      "cell_type": "code",
      "metadata": {
        "colab": {
          "base_uri": "https://localhost:8080/"
        },
        "id": "WQEmGIw97fjI",
        "outputId": "1df39c59-8103-454a-b94a-b0bc8c1207e8"
      },
      "source": [
        "quant(DA_TaskConfig(), 'da_model.pt')"
      ],
      "execution_count": null,
      "outputs": [
        {
          "output_type": "stream",
          "name": "stderr",
          "text": [
            "102it [00:12,  8.33it/s]\n"
          ]
        },
        {
          "output_type": "stream",
          "name": "stdout",
          "text": [
            "5.38988897526914e-05\n",
            "[INFO] Register count_convNd() for <class 'torch.nn.modules.conv.Conv2d'>.\n",
            "\u001b[91m[WARN] Cannot find rule for <class 'torch.nn.modules.flatten.Flatten'>. Treat it as zero Macs and zero Params.\u001b[00m\n",
            "\u001b[91m[WARN] Cannot find rule for <class 'torch.nn.modules.container.Sequential'>. Treat it as zero Macs and zero Params.\u001b[00m\n",
            "\u001b[91m[WARN] Cannot find rule for <class 'torch.nn.quantized.dynamic.modules.rnn.PackedParameter'>. Treat it as zero Macs and zero Params.\u001b[00m\n",
            "\u001b[91m[WARN] Cannot find rule for <class 'torch.nn.modules.container.ModuleList'>. Treat it as zero Macs and zero Params.\u001b[00m\n",
            "\u001b[91m[WARN] Cannot find rule for <class 'torch.nn.quantized.dynamic.modules.rnn.GRU'>. Treat it as zero Macs and zero Params.\u001b[00m\n",
            "\u001b[91m[WARN] Cannot find rule for <class 'torch.nn.quantized.modules.linear.LinearPackedParams'>. Treat it as zero Macs and zero Params.\u001b[00m\n",
            "\u001b[91m[WARN] Cannot find rule for <class 'torch.nn.quantized.dynamic.modules.linear.Linear'>. Treat it as zero Macs and zero Params.\u001b[00m\n",
            "\u001b[91m[WARN] Cannot find rule for <class 'torch.nn.modules.activation.Tanh'>. Treat it as zero Macs and zero Params.\u001b[00m\n",
            "\u001b[91m[WARN] Cannot find rule for <class '__main__.Attention'>. Treat it as zero Macs and zero Params.\u001b[00m\n",
            "\u001b[91m[WARN] Cannot find rule for <class '__main__.CRNN'>. Treat it as zero Macs and zero Params.\u001b[00m\n",
            "Model size 0.003082275390625 MB, model macs 523584.0, model parametrs count 808.0\n",
            "None\n"
          ]
        },
        {
          "output_type": "execute_result",
          "data": {
            "text/plain": [
              "5.38988897526914e-05"
            ]
          },
          "metadata": {},
          "execution_count": 112
        }
      ]
    },
    {
      "cell_type": "code",
      "metadata": {
        "id": "B31IoCj27pmf"
      },
      "source": [
        "RESULTS['Q8_da_model'] = {'macs': 523584, 'model_sz': 0.003082275390625, 'file_sz': 80.78, 'params': 808, 'metric': 5.390e-5}"
      ],
      "execution_count": 131,
      "outputs": []
    },
    {
      "cell_type": "markdown",
      "metadata": {
        "id": "kWPfHqjm-QgL"
      },
      "source": [
        "### DKD + DA ..."
      ]
    },
    {
      "cell_type": "code",
      "metadata": {
        "colab": {
          "base_uri": "https://localhost:8080/"
        },
        "id": "Stm2glE8-etR",
        "outputId": "e15b3dca-521c-49da-ae49-88e441f3d137"
      },
      "source": [
        "history = defaultdict(list)\n",
        "#so we want our new model to be better than base_model_score * 1.1 (or we can even put 1.05)\n",
        "GOOD_QUALITY = RESULTS['base_model']['metric'] * 1.075\n",
        "\n",
        "teacher_config = DKD_m_TaskConfig()\n",
        "teacher = CRNN(teacher_config).to(teacher_config.device)\n",
        "teacher.load_state_dict(torch.load('dkd_m_model.pt'))\n",
        "\n",
        "model = Attention(teacher_config.hidden_size).to(teacher_config.device)\n",
        "\n",
        "opt = torch.optim.Adam(\n",
        "    model.parameters(),\n",
        "    lr=config.learning_rate,\n",
        "    weight_decay=config.weight_decay\n",
        ")\n",
        "\n",
        "for i in range(teacher_config.num_epochs):\n",
        "    train_epoch_with_dattention(model, teacher.attention, opt, train_loader,\n",
        "                melspec_train, teacher_config.device, 16)"
      ],
      "execution_count": 48,
      "outputs": [
        {
          "output_type": "stream",
          "name": "stderr",
          "text": [
            "100%|██████████| 405/405 [00:53<00:00,  7.51it/s]\n",
            "100%|██████████| 405/405 [00:54<00:00,  7.46it/s]\n",
            "100%|██████████| 405/405 [00:54<00:00,  7.46it/s]\n",
            "100%|██████████| 405/405 [00:54<00:00,  7.47it/s]\n",
            "100%|██████████| 405/405 [00:54<00:00,  7.47it/s]\n",
            "100%|██████████| 405/405 [00:55<00:00,  7.31it/s]\n",
            "100%|██████████| 405/405 [00:54<00:00,  7.50it/s]\n",
            "100%|██████████| 405/405 [00:53<00:00,  7.53it/s]\n",
            "100%|██████████| 405/405 [00:53<00:00,  7.52it/s]\n",
            "100%|██████████| 405/405 [00:53<00:00,  7.50it/s]\n",
            "100%|██████████| 405/405 [00:53<00:00,  7.53it/s]\n",
            "100%|██████████| 405/405 [00:54<00:00,  7.50it/s]\n",
            "100%|██████████| 405/405 [00:53<00:00,  7.53it/s]\n",
            "100%|██████████| 405/405 [00:53<00:00,  7.56it/s]\n",
            "100%|██████████| 405/405 [00:53<00:00,  7.53it/s]\n",
            "100%|██████████| 405/405 [00:55<00:00,  7.34it/s]\n",
            "100%|██████████| 405/405 [00:53<00:00,  7.55it/s]\n",
            "100%|██████████| 405/405 [00:53<00:00,  7.60it/s]\n",
            "100%|██████████| 405/405 [00:53<00:00,  7.54it/s]\n",
            "100%|██████████| 405/405 [00:53<00:00,  7.51it/s]\n"
          ]
        }
      ]
    },
    {
      "cell_type": "code",
      "metadata": {
        "id": "QMG4RkfeBhm3"
      },
      "source": [
        "# teacher.attention = model\n",
        "# torch.save(teacher.state_dict(), 'da_dkd_m_model.pt')"
      ],
      "execution_count": 49,
      "outputs": []
    },
    {
      "cell_type": "code",
      "metadata": {
        "colab": {
          "base_uri": "https://localhost:8080/"
        },
        "id": "TIJ7IABFAMF3",
        "outputId": "04643234-2d3c-4f3b-c804-766d037b7a8b"
      },
      "source": [
        "config = DKD_m_TaskConfig()\n",
        "teacher = CRNN(config)\n",
        "teacher.load_state_dict(torch.load('da_dkd_m_model.pt'))"
      ],
      "execution_count": 132,
      "outputs": [
        {
          "output_type": "execute_result",
          "data": {
            "text/plain": [
              "<All keys matched successfully>"
            ]
          },
          "metadata": {},
          "execution_count": 132
        }
      ]
    },
    {
      "cell_type": "code",
      "metadata": {
        "colab": {
          "base_uri": "https://localhost:8080/"
        },
        "id": "Vj0NE48TBkiR",
        "outputId": "af4210cc-8280-46b7-e33f-bbc2cd5aa6a8"
      },
      "source": [
        "model_info(teacher.cpu())"
      ],
      "execution_count": 133,
      "outputs": [
        {
          "output_type": "stream",
          "name": "stdout",
          "text": [
            "[INFO] Register count_convNd() for <class 'torch.nn.modules.conv.Conv2d'>.\n",
            "\u001b[91m[WARN] Cannot find rule for <class 'torch.nn.modules.flatten.Flatten'>. Treat it as zero Macs and zero Params.\u001b[00m\n",
            "\u001b[91m[WARN] Cannot find rule for <class 'torch.nn.modules.container.Sequential'>. Treat it as zero Macs and zero Params.\u001b[00m\n",
            "[INFO] Register count_gru() for <class 'torch.nn.modules.rnn.GRU'>.\n",
            "[INFO] Register count_linear() for <class 'torch.nn.modules.linear.Linear'>.\n",
            "\u001b[91m[WARN] Cannot find rule for <class 'torch.nn.modules.activation.Tanh'>. Treat it as zero Macs and zero Params.\u001b[00m\n",
            "\u001b[91m[WARN] Cannot find rule for <class '__main__.Attention'>. Treat it as zero Macs and zero Params.\u001b[00m\n",
            "\u001b[91m[WARN] Cannot find rule for <class '__main__.CRNN'>. Treat it as zero Macs and zero Params.\u001b[00m\n",
            "Model size 0.025478363037109375 MB, model macs 493952.0, model parametrs count 6679.0\n"
          ]
        }
      ]
    },
    {
      "cell_type": "code",
      "metadata": {
        "colab": {
          "base_uri": "https://localhost:8080/"
        },
        "id": "D8CtXrNZBnWn",
        "outputId": "c5859e34-9cc9-49de-fb46-1eb208af682c"
      },
      "source": [
        "validation(teacher.to(teacher_config.device), val_loader, melspec_val, teacher_config.device)"
      ],
      "execution_count": 51,
      "outputs": [
        {
          "output_type": "stream",
          "name": "stderr",
          "text": [
            "102it [00:07, 13.03it/s]\n"
          ]
        },
        {
          "output_type": "execute_result",
          "data": {
            "text/plain": [
              "3.9099371751509526e-05"
            ]
          },
          "metadata": {},
          "execution_count": 51
        }
      ]
    },
    {
      "cell_type": "code",
      "metadata": {
        "id": "BLxUcPH7BqGc"
      },
      "source": [
        "RESULTS['da_dkd_m_model'] = {'macs': 493952, 'model_sz': 0.025478363037109375, 'file_sz': 29.45, 'params': 6679, 'metric': 3.91e-5}"
      ],
      "execution_count": 134,
      "outputs": []
    },
    {
      "cell_type": "markdown",
      "metadata": {
        "id": "H9V-GdEfBuE7"
      },
      "source": [
        "### Finally, DA + DKD + QUANTIZATION"
      ]
    },
    {
      "cell_type": "code",
      "metadata": {
        "colab": {
          "base_uri": "https://localhost:8080/"
        },
        "id": "Uc_S2yCmB219",
        "outputId": "06f91f65-3c28-4152-9ddb-89a70f087f2a"
      },
      "source": [
        "quant(DKD_m_TaskConfig(), 'da_dkd_m_model.pt')"
      ],
      "execution_count": 55,
      "outputs": [
        {
          "output_type": "stream",
          "name": "stderr",
          "text": [
            "102it [00:11,  8.59it/s]\n"
          ]
        },
        {
          "output_type": "stream",
          "name": "stdout",
          "text": [
            "4.04659401475864e-05\n",
            "[INFO] Register count_convNd() for <class 'torch.nn.modules.conv.Conv2d'>.\n",
            "\u001b[91m[WARN] Cannot find rule for <class 'torch.nn.modules.flatten.Flatten'>. Treat it as zero Macs and zero Params.\u001b[00m\n",
            "\u001b[91m[WARN] Cannot find rule for <class 'torch.nn.modules.container.Sequential'>. Treat it as zero Macs and zero Params.\u001b[00m\n",
            "\u001b[91m[WARN] Cannot find rule for <class 'torch.nn.quantized.dynamic.modules.rnn.PackedParameter'>. Treat it as zero Macs and zero Params.\u001b[00m\n",
            "\u001b[91m[WARN] Cannot find rule for <class 'torch.nn.modules.container.ModuleList'>. Treat it as zero Macs and zero Params.\u001b[00m\n",
            "\u001b[91m[WARN] Cannot find rule for <class 'torch.nn.quantized.dynamic.modules.rnn.GRU'>. Treat it as zero Macs and zero Params.\u001b[00m\n",
            "\u001b[91m[WARN] Cannot find rule for <class 'torch.nn.quantized.modules.linear.LinearPackedParams'>. Treat it as zero Macs and zero Params.\u001b[00m\n",
            "\u001b[91m[WARN] Cannot find rule for <class 'torch.nn.quantized.dynamic.modules.linear.Linear'>. Treat it as zero Macs and zero Params.\u001b[00m\n",
            "\u001b[91m[WARN] Cannot find rule for <class 'torch.nn.modules.activation.Tanh'>. Treat it as zero Macs and zero Params.\u001b[00m\n",
            "\u001b[91m[WARN] Cannot find rule for <class '__main__.Attention'>. Treat it as zero Macs and zero Params.\u001b[00m\n",
            "\u001b[91m[WARN] Cannot find rule for <class '__main__.CRNN'>. Treat it as zero Macs and zero Params.\u001b[00m\n",
            "Model size 0.0015411376953125 MB, model macs 261792.0, model parametrs count 404.0\n",
            "None\n"
          ]
        },
        {
          "output_type": "execute_result",
          "data": {
            "text/plain": [
              "4.04659401475864e-05"
            ]
          },
          "metadata": {},
          "execution_count": 55
        }
      ]
    },
    {
      "cell_type": "code",
      "metadata": {
        "id": "uyg8pZRBCAL5"
      },
      "source": [
        "RESULTS['Q8_da_dkd_m_model'] = {'macs': 261792, 'model_sz': 0.0015411376953125, 'file_sz': 15.28, 'params': 404, 'metric': 4.047e-5}"
      ],
      "execution_count": 135,
      "outputs": []
    },
    {
      "cell_type": "markdown",
      "metadata": {
        "id": "soB2aM_SH0lU"
      },
      "source": [
        "### GRAPHS & RESULTS"
      ]
    },
    {
      "cell_type": "code",
      "metadata": {
        "colab": {
          "base_uri": "https://localhost:8080/",
          "height": 363
        },
        "id": "L99XCUOkH5tX",
        "outputId": "cc8af671-35f1-4077-91a4-37d3f93aeee9"
      },
      "source": [
        "df = pd.DataFrame(RESULTS).T\n",
        "df"
      ],
      "execution_count": 138,
      "outputs": [
        {
          "output_type": "execute_result",
          "data": {
            "text/html": [
              "<div>\n",
              "<style scoped>\n",
              "    .dataframe tbody tr th:only-of-type {\n",
              "        vertical-align: middle;\n",
              "    }\n",
              "\n",
              "    .dataframe tbody tr th {\n",
              "        vertical-align: top;\n",
              "    }\n",
              "\n",
              "    .dataframe thead th {\n",
              "        text-align: right;\n",
              "    }\n",
              "</style>\n",
              "<table border=\"1\" class=\"dataframe\">\n",
              "  <thead>\n",
              "    <tr style=\"text-align: right;\">\n",
              "      <th></th>\n",
              "      <th>macs</th>\n",
              "      <th>model_sz</th>\n",
              "      <th>file_sz</th>\n",
              "      <th>params</th>\n",
              "      <th>metric</th>\n",
              "    </tr>\n",
              "  </thead>\n",
              "  <tbody>\n",
              "    <tr>\n",
              "      <th>base_model</th>\n",
              "      <td>3055808.0</td>\n",
              "      <td>0.268719</td>\n",
              "      <td>278.51</td>\n",
              "      <td>70443.0</td>\n",
              "      <td>0.000038</td>\n",
              "    </tr>\n",
              "    <tr>\n",
              "      <th>dkd_model</th>\n",
              "      <td>910432.0</td>\n",
              "      <td>0.068935</td>\n",
              "      <td>73.95</td>\n",
              "      <td>18071.0</td>\n",
              "      <td>0.000038</td>\n",
              "    </tr>\n",
              "    <tr>\n",
              "      <th>Q8_base_model</th>\n",
              "      <td>523584.0</td>\n",
              "      <td>0.003082</td>\n",
              "      <td>80.78</td>\n",
              "      <td>808.0</td>\n",
              "      <td>0.000037</td>\n",
              "    </tr>\n",
              "    <tr>\n",
              "      <th>Q8_dkd_model</th>\n",
              "      <td>261792.0</td>\n",
              "      <td>0.001541</td>\n",
              "      <td>27.22</td>\n",
              "      <td>404.0</td>\n",
              "      <td>0.000037</td>\n",
              "    </tr>\n",
              "    <tr>\n",
              "      <th>dkd_m_model</th>\n",
              "      <td>493952.0</td>\n",
              "      <td>0.025478</td>\n",
              "      <td>29.45</td>\n",
              "      <td>6679.0</td>\n",
              "      <td>0.000040</td>\n",
              "    </tr>\n",
              "    <tr>\n",
              "      <th>Q8_dkd_m_model</th>\n",
              "      <td>261792.0</td>\n",
              "      <td>0.001541</td>\n",
              "      <td>15.47</td>\n",
              "      <td>404.0</td>\n",
              "      <td>0.000042</td>\n",
              "    </tr>\n",
              "    <tr>\n",
              "      <th>da_model</th>\n",
              "      <td>3055808.0</td>\n",
              "      <td>0.268719</td>\n",
              "      <td>278.51</td>\n",
              "      <td>70443.0</td>\n",
              "      <td>0.000054</td>\n",
              "    </tr>\n",
              "    <tr>\n",
              "      <th>Q8_da_model</th>\n",
              "      <td>523584.0</td>\n",
              "      <td>0.003082</td>\n",
              "      <td>80.78</td>\n",
              "      <td>808.0</td>\n",
              "      <td>0.000054</td>\n",
              "    </tr>\n",
              "    <tr>\n",
              "      <th>da_dkd_m_model</th>\n",
              "      <td>493952.0</td>\n",
              "      <td>0.025478</td>\n",
              "      <td>29.45</td>\n",
              "      <td>6679.0</td>\n",
              "      <td>0.000039</td>\n",
              "    </tr>\n",
              "    <tr>\n",
              "      <th>Q8_da_dkd_m_model</th>\n",
              "      <td>261792.0</td>\n",
              "      <td>0.001541</td>\n",
              "      <td>15.28</td>\n",
              "      <td>404.0</td>\n",
              "      <td>0.000040</td>\n",
              "    </tr>\n",
              "  </tbody>\n",
              "</table>\n",
              "</div>"
            ],
            "text/plain": [
              "                        macs  model_sz  file_sz   params    metric\n",
              "base_model         3055808.0  0.268719   278.51  70443.0  0.000038\n",
              "dkd_model           910432.0  0.068935    73.95  18071.0  0.000038\n",
              "Q8_base_model       523584.0  0.003082    80.78    808.0  0.000037\n",
              "Q8_dkd_model        261792.0  0.001541    27.22    404.0  0.000037\n",
              "dkd_m_model         493952.0  0.025478    29.45   6679.0  0.000040\n",
              "Q8_dkd_m_model      261792.0  0.001541    15.47    404.0  0.000042\n",
              "da_model           3055808.0  0.268719   278.51  70443.0  0.000054\n",
              "Q8_da_model         523584.0  0.003082    80.78    808.0  0.000054\n",
              "da_dkd_m_model      493952.0  0.025478    29.45   6679.0  0.000039\n",
              "Q8_da_dkd_m_model   261792.0  0.001541    15.28    404.0  0.000040"
            ]
          },
          "metadata": {},
          "execution_count": 138
        }
      ]
    },
    {
      "cell_type": "markdown",
      "metadata": {
        "id": "vHsHlzDoAk-U"
      },
      "source": [
        "Что тут есть вообще? dkd - это дистилляция, причем dkd_m это вторая, когда я еще в 2 раза уменьшил hidden_size и получил лучше модель.\\\n",
        "Q8 означает квантизацию в qint8, da - дистилляция аттеншена."
      ]
    },
    {
      "cell_type": "markdown",
      "metadata": {
        "id": "SxFKkCvvIyMi"
      },
      "source": [
        "Ага, ну что тут видно. Параметры при квантизации это ложь!! (во-первых), поэтому их игнорируем. Но видно например, что дистилляция + квантизация дают очень хорошие результаты. Там и по макам и по размеру модели видим существенное улучшение(больше чем в 10 раз). Если еще добавить дистилляцию аттеншена, то размер файла модели еще чуть уменьшается (вообще очень несущественно), но зато метрика чуть уменьшается, что хорошо."
      ]
    },
    {
      "cell_type": "code",
      "metadata": {
        "id": "08fLvhYNA9xi"
      },
      "source": [
        "df['metric_diff'] = df['metric'] / df['metric'][0]\n",
        "df['macs_diff'] = df['macs'] / df['macs'][0]\n",
        "df['model_sz_diff'] = df['model_sz'] / df['model_sz'][0]\n",
        "df['file_sz_diff'] = df['file_sz'] / df['file_sz'][0]"
      ],
      "execution_count": 139,
      "outputs": []
    },
    {
      "cell_type": "code",
      "metadata": {
        "colab": {
          "base_uri": "https://localhost:8080/",
          "height": 363
        },
        "id": "GlMG9dpMCr3N",
        "outputId": "6136ed00-ed12-4760-ed4b-1d82d083b9a3"
      },
      "source": [
        "df"
      ],
      "execution_count": 140,
      "outputs": [
        {
          "output_type": "execute_result",
          "data": {
            "text/html": [
              "<div>\n",
              "<style scoped>\n",
              "    .dataframe tbody tr th:only-of-type {\n",
              "        vertical-align: middle;\n",
              "    }\n",
              "\n",
              "    .dataframe tbody tr th {\n",
              "        vertical-align: top;\n",
              "    }\n",
              "\n",
              "    .dataframe thead th {\n",
              "        text-align: right;\n",
              "    }\n",
              "</style>\n",
              "<table border=\"1\" class=\"dataframe\">\n",
              "  <thead>\n",
              "    <tr style=\"text-align: right;\">\n",
              "      <th></th>\n",
              "      <th>macs</th>\n",
              "      <th>model_sz</th>\n",
              "      <th>file_sz</th>\n",
              "      <th>params</th>\n",
              "      <th>metric</th>\n",
              "      <th>metric_diff</th>\n",
              "      <th>macs_diff</th>\n",
              "      <th>model_sz_diff</th>\n",
              "      <th>file_sz_diff</th>\n",
              "    </tr>\n",
              "  </thead>\n",
              "  <tbody>\n",
              "    <tr>\n",
              "      <th>base_model</th>\n",
              "      <td>3055808.0</td>\n",
              "      <td>0.268719</td>\n",
              "      <td>278.51</td>\n",
              "      <td>70443.0</td>\n",
              "      <td>0.000038</td>\n",
              "      <td>1.000000</td>\n",
              "      <td>1.000000</td>\n",
              "      <td>1.000000</td>\n",
              "      <td>1.000000</td>\n",
              "    </tr>\n",
              "    <tr>\n",
              "      <th>dkd_model</th>\n",
              "      <td>910432.0</td>\n",
              "      <td>0.068935</td>\n",
              "      <td>73.95</td>\n",
              "      <td>18071.0</td>\n",
              "      <td>0.000038</td>\n",
              "      <td>1.013298</td>\n",
              "      <td>0.297935</td>\n",
              "      <td>0.256534</td>\n",
              "      <td>0.265520</td>\n",
              "    </tr>\n",
              "    <tr>\n",
              "      <th>Q8_base_model</th>\n",
              "      <td>523584.0</td>\n",
              "      <td>0.003082</td>\n",
              "      <td>80.78</td>\n",
              "      <td>808.0</td>\n",
              "      <td>0.000037</td>\n",
              "      <td>0.987234</td>\n",
              "      <td>0.171341</td>\n",
              "      <td>0.011470</td>\n",
              "      <td>0.290043</td>\n",
              "    </tr>\n",
              "    <tr>\n",
              "      <th>Q8_dkd_model</th>\n",
              "      <td>261792.0</td>\n",
              "      <td>0.001541</td>\n",
              "      <td>27.22</td>\n",
              "      <td>404.0</td>\n",
              "      <td>0.000037</td>\n",
              "      <td>0.980851</td>\n",
              "      <td>0.085670</td>\n",
              "      <td>0.005735</td>\n",
              "      <td>0.097734</td>\n",
              "    </tr>\n",
              "    <tr>\n",
              "      <th>dkd_m_model</th>\n",
              "      <td>493952.0</td>\n",
              "      <td>0.025478</td>\n",
              "      <td>29.45</td>\n",
              "      <td>6679.0</td>\n",
              "      <td>0.000040</td>\n",
              "      <td>1.070745</td>\n",
              "      <td>0.161644</td>\n",
              "      <td>0.094814</td>\n",
              "      <td>0.105741</td>\n",
              "    </tr>\n",
              "    <tr>\n",
              "      <th>Q8_dkd_m_model</th>\n",
              "      <td>261792.0</td>\n",
              "      <td>0.001541</td>\n",
              "      <td>15.47</td>\n",
              "      <td>404.0</td>\n",
              "      <td>0.000042</td>\n",
              "      <td>1.116755</td>\n",
              "      <td>0.085670</td>\n",
              "      <td>0.005735</td>\n",
              "      <td>0.055546</td>\n",
              "    </tr>\n",
              "    <tr>\n",
              "      <th>da_model</th>\n",
              "      <td>3055808.0</td>\n",
              "      <td>0.268719</td>\n",
              "      <td>278.51</td>\n",
              "      <td>70443.0</td>\n",
              "      <td>0.000054</td>\n",
              "      <td>1.437500</td>\n",
              "      <td>1.000000</td>\n",
              "      <td>1.000000</td>\n",
              "      <td>1.000000</td>\n",
              "    </tr>\n",
              "    <tr>\n",
              "      <th>Q8_da_model</th>\n",
              "      <td>523584.0</td>\n",
              "      <td>0.003082</td>\n",
              "      <td>80.78</td>\n",
              "      <td>808.0</td>\n",
              "      <td>0.000054</td>\n",
              "      <td>1.433511</td>\n",
              "      <td>0.171341</td>\n",
              "      <td>0.011470</td>\n",
              "      <td>0.290043</td>\n",
              "    </tr>\n",
              "    <tr>\n",
              "      <th>da_dkd_m_model</th>\n",
              "      <td>493952.0</td>\n",
              "      <td>0.025478</td>\n",
              "      <td>29.45</td>\n",
              "      <td>6679.0</td>\n",
              "      <td>0.000039</td>\n",
              "      <td>1.039894</td>\n",
              "      <td>0.161644</td>\n",
              "      <td>0.094814</td>\n",
              "      <td>0.105741</td>\n",
              "    </tr>\n",
              "    <tr>\n",
              "      <th>Q8_da_dkd_m_model</th>\n",
              "      <td>261792.0</td>\n",
              "      <td>0.001541</td>\n",
              "      <td>15.28</td>\n",
              "      <td>404.0</td>\n",
              "      <td>0.000040</td>\n",
              "      <td>1.076330</td>\n",
              "      <td>0.085670</td>\n",
              "      <td>0.005735</td>\n",
              "      <td>0.054863</td>\n",
              "    </tr>\n",
              "  </tbody>\n",
              "</table>\n",
              "</div>"
            ],
            "text/plain": [
              "                        macs  model_sz  ...  model_sz_diff  file_sz_diff\n",
              "base_model         3055808.0  0.268719  ...       1.000000      1.000000\n",
              "dkd_model           910432.0  0.068935  ...       0.256534      0.265520\n",
              "Q8_base_model       523584.0  0.003082  ...       0.011470      0.290043\n",
              "Q8_dkd_model        261792.0  0.001541  ...       0.005735      0.097734\n",
              "dkd_m_model         493952.0  0.025478  ...       0.094814      0.105741\n",
              "Q8_dkd_m_model      261792.0  0.001541  ...       0.005735      0.055546\n",
              "da_model           3055808.0  0.268719  ...       1.000000      1.000000\n",
              "Q8_da_model         523584.0  0.003082  ...       0.011470      0.290043\n",
              "da_dkd_m_model      493952.0  0.025478  ...       0.094814      0.105741\n",
              "Q8_da_dkd_m_model   261792.0  0.001541  ...       0.005735      0.054863\n",
              "\n",
              "[10 rows x 9 columns]"
            ]
          },
          "metadata": {},
          "execution_count": 140
        }
      ]
    },
    {
      "cell_type": "markdown",
      "metadata": {
        "id": "gGsIBYrkDCcf"
      },
      "source": [
        "Теперь видны улучшения наших моделей, числа обозначают какой процент от памяти или маков (базовой модели) составляют новые показатели.\\\n",
        "Видно что лучшее (больше 10 раз) улучшение у моделей c квантизацией+дистилляцией и такой же еще с дист. аттеншена. Но у второй метрика получше. Хотя если сравнивать не с моей метрикой, а метрикой из условия (5e-5), то обе модели пподходят. Но чтобы совсем честно было, последняя модель подходит при сравнении с метрикой моей базовой модели."
      ]
    },
    {
      "cell_type": "markdown",
      "metadata": {
        "id": "jNOU3rxqHJBw"
      },
      "source": [
        "Теперь графики..."
      ]
    },
    {
      "cell_type": "code",
      "metadata": {
        "colab": {
          "base_uri": "https://localhost:8080/",
          "height": 576
        },
        "id": "px9ctaiGD5W9",
        "outputId": "50d44164-9e16-4096-9340-9ab3f58d2c5a"
      },
      "source": [
        "#metric-memory\n",
        "mrs = ['o', 'v', '^', '1', '3', 's', 'p', 'P', '*', '+']\n",
        "plt.figure(figsize=(20, 10))\n",
        "for i, m in enumerate(df.index.values):\n",
        "    plt.scatter(df.iloc[i]['file_sz'], df.iloc[i]['metric'], marker=mrs[i], label=m, s=700)\n",
        "plt.legend(fontsize='xx-large')\n",
        "plt.xlabel('File Size(KB)')\n",
        "plt.ylabel('Metric')\n",
        "plt.title('Metric vs File Size')"
      ],
      "execution_count": 185,
      "outputs": [
        {
          "output_type": "execute_result",
          "data": {
            "text/plain": [
              "Text(0.5, 1.0, 'Metric vs File Size')"
            ]
          },
          "metadata": {},
          "execution_count": 185
        },
        {
          "output_type": "display_data",
          "data": {
            "image/png": "[encoded data removed]",
            "text/plain": [
              "<Figure size 1440x720 with 1 Axes>"
            ]
          },
          "metadata": {
            "needs_background": "light"
          }
        }
      ]
    },
    {
      "cell_type": "code",
      "metadata": {
        "colab": {
          "base_uri": "https://localhost:8080/",
          "height": 576
        },
        "id": "JjMpUQWtLhT8",
        "outputId": "278f11e7-6579-42df-eb9a-101b2202373e"
      },
      "source": [
        "#metric-memory\n",
        "mrs = ['o', 'v', '^', '1', '3', 's', 'p', 'P', '*', '+']\n",
        "plt.figure(figsize=(20, 10))\n",
        "for i, m in enumerate(df.index.values):\n",
        "    plt.scatter(df.iloc[i]['model_sz'], df.iloc[i]['metric'], marker=mrs[i], label=m, s=700)\n",
        "plt.legend(fontsize='xx-large')\n",
        "plt.xlabel('Model Size(MB)')\n",
        "plt.ylabel('Metric')\n",
        "plt.title('Metric vs Model Size')"
      ],
      "execution_count": 186,
      "outputs": [
        {
          "output_type": "execute_result",
          "data": {
            "text/plain": [
              "Text(0.5, 1.0, 'Metric vs Model Size')"
            ]
          },
          "metadata": {},
          "execution_count": 186
        },
        {
          "output_type": "display_data",
          "data": {
            "image/png": "[encoded data removed]",
            "text/plain": [
              "<Figure size 1440x720 with 1 Axes>"
            ]
          },
          "metadata": {
            "needs_background": "light"
          }
        }
      ]
    },
    {
      "cell_type": "code",
      "metadata": {
        "colab": {
          "base_uri": "https://localhost:8080/",
          "height": 576
        },
        "id": "IjE6amwPLqH2",
        "outputId": "79349b27-7810-40ec-b7a1-a6ab92a88793"
      },
      "source": [
        "#metric-memory\n",
        "mrs = ['o', 'v', '^', '1', '3', 's', 'p', 'P', '*', '+']\n",
        "plt.figure(figsize=(20, 10))\n",
        "for i, m in enumerate(df.index.values):\n",
        "    plt.scatter(df.iloc[i]['macs'], df.iloc[i]['metric'], marker=mrs[i], label=m, s=700)\n",
        "plt.legend(fontsize='xx-large')\n",
        "plt.xlabel('Macs')\n",
        "plt.ylabel('Metric')\n",
        "plt.title('Metric vs Macs')"
      ],
      "execution_count": 187,
      "outputs": [
        {
          "output_type": "execute_result",
          "data": {
            "text/plain": [
              "Text(0.5, 1.0, 'Metric vs Macs')"
            ]
          },
          "metadata": {},
          "execution_count": 187
        },
        {
          "output_type": "display_data",
          "data": {
            "image/png": "[encoded data removed]",
            "text/plain": [
              "<Figure size 1440x720 with 1 Axes>"
            ]
          },
          "metadata": {
            "needs_background": "light"
          }
        }
      ]
    },
    {
      "cell_type": "markdown",
      "metadata": {
        "id": "e29wccJPL-Q0"
      },
      "source": [
        "Тут стоит смотреть на синий плюсик и коричневый квадрат"
      ]
    }
  ]
}